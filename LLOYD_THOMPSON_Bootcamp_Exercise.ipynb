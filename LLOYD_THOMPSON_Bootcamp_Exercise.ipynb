{
  "nbformat": 4,
  "nbformat_minor": 0,
  "metadata": {
    "colab": {
      "name": "LLOYD_THOMPSON_Bootcamp_Exercise.ipynb",
      "provenance": [],
      "collapsed_sections": [
        "TnEP9qaGE2Ng",
        "baE9mm0GFP5d"
      ]
    },
    "kernelspec": {
      "name": "python3",
      "display_name": "Python 3"
    }
  },
  "cells": [
    {
      "cell_type": "markdown",
      "metadata": {
        "colab_type": "text",
        "id": "8so68rzlHkMq"
      },
      "source": [
        "# Ex 5--\n"
      ]
    },
    {
      "cell_type": "code",
      "metadata": {
        "id": "W3lhSiyEJ9rW",
        "colab_type": "code",
        "colab": {
          "base_uri": "https://localhost:8080/",
          "height": 663
        },
        "outputId": "1cd24310-5c2e-4441-e6f6-19c98f2c2ac4"
      },
      "source": [
        "!pip install tensorflow==2.0.0"
      ],
      "execution_count": 8,
      "outputs": [
        {
          "output_type": "stream",
          "text": [
            "Collecting tensorflow==2.0.0\n",
            "\u001b[?25l  Downloading https://files.pythonhosted.org/packages/46/0f/7bd55361168bb32796b360ad15a25de6966c9c1beb58a8e30c01c8279862/tensorflow-2.0.0-cp36-cp36m-manylinux2010_x86_64.whl (86.3MB)\n",
            "\u001b[K     |████████████████████████████████| 86.3MB 78kB/s \n",
            "\u001b[?25hRequirement already satisfied: google-pasta>=0.1.6 in /usr/local/lib/python3.6/dist-packages (from tensorflow==2.0.0) (0.1.7)\n",
            "Requirement already satisfied: absl-py>=0.7.0 in /usr/local/lib/python3.6/dist-packages (from tensorflow==2.0.0) (0.8.1)\n",
            "Collecting tensorflow-estimator<2.1.0,>=2.0.0\n",
            "\u001b[?25l  Downloading https://files.pythonhosted.org/packages/fc/08/8b927337b7019c374719145d1dceba21a8bb909b93b1ad6f8fb7d22c1ca1/tensorflow_estimator-2.0.1-py2.py3-none-any.whl (449kB)\n",
            "\u001b[K     |████████████████████████████████| 450kB 43.7MB/s \n",
            "\u001b[?25hRequirement already satisfied: wrapt>=1.11.1 in /usr/local/lib/python3.6/dist-packages (from tensorflow==2.0.0) (1.11.2)\n",
            "Requirement already satisfied: gast==0.2.2 in /usr/local/lib/python3.6/dist-packages (from tensorflow==2.0.0) (0.2.2)\n",
            "Requirement already satisfied: wheel>=0.26 in /usr/local/lib/python3.6/dist-packages (from tensorflow==2.0.0) (0.33.6)\n",
            "Requirement already satisfied: grpcio>=1.8.6 in /usr/local/lib/python3.6/dist-packages (from tensorflow==2.0.0) (1.15.0)\n",
            "Requirement already satisfied: numpy<2.0,>=1.16.0 in /usr/local/lib/python3.6/dist-packages (from tensorflow==2.0.0) (1.17.3)\n",
            "Requirement already satisfied: keras-applications>=1.0.8 in /usr/local/lib/python3.6/dist-packages (from tensorflow==2.0.0) (1.0.8)\n",
            "Requirement already satisfied: six>=1.10.0 in /usr/local/lib/python3.6/dist-packages (from tensorflow==2.0.0) (1.12.0)\n",
            "Requirement already satisfied: termcolor>=1.1.0 in /usr/local/lib/python3.6/dist-packages (from tensorflow==2.0.0) (1.1.0)\n",
            "Requirement already satisfied: keras-preprocessing>=1.0.5 in /usr/local/lib/python3.6/dist-packages (from tensorflow==2.0.0) (1.1.0)\n",
            "Requirement already satisfied: protobuf>=3.6.1 in /usr/local/lib/python3.6/dist-packages (from tensorflow==2.0.0) (3.10.0)\n",
            "Collecting tensorboard<2.1.0,>=2.0.0\n",
            "\u001b[?25l  Downloading https://files.pythonhosted.org/packages/9b/a6/e8ffa4e2ddb216449d34cfcb825ebb38206bee5c4553d69e7bc8bc2c5d64/tensorboard-2.0.0-py3-none-any.whl (3.8MB)\n",
            "\u001b[K     |████████████████████████████████| 3.8MB 49.6MB/s \n",
            "\u001b[?25hRequirement already satisfied: astor>=0.6.0 in /usr/local/lib/python3.6/dist-packages (from tensorflow==2.0.0) (0.8.0)\n",
            "Requirement already satisfied: opt-einsum>=2.3.2 in /usr/local/lib/python3.6/dist-packages (from tensorflow==2.0.0) (3.1.0)\n",
            "Requirement already satisfied: h5py in /usr/local/lib/python3.6/dist-packages (from keras-applications>=1.0.8->tensorflow==2.0.0) (2.8.0)\n",
            "Requirement already satisfied: setuptools in /usr/local/lib/python3.6/dist-packages (from protobuf>=3.6.1->tensorflow==2.0.0) (41.4.0)\n",
            "Requirement already satisfied: werkzeug>=0.11.15 in /usr/local/lib/python3.6/dist-packages (from tensorboard<2.1.0,>=2.0.0->tensorflow==2.0.0) (0.16.0)\n",
            "Requirement already satisfied: markdown>=2.6.8 in /usr/local/lib/python3.6/dist-packages (from tensorboard<2.1.0,>=2.0.0->tensorflow==2.0.0) (3.1.1)\n",
            "Installing collected packages: tensorflow-estimator, tensorboard, tensorflow\n",
            "  Found existing installation: tensorflow-estimator 1.15.1\n",
            "    Uninstalling tensorflow-estimator-1.15.1:\n",
            "      Successfully uninstalled tensorflow-estimator-1.15.1\n",
            "  Found existing installation: tensorboard 1.15.0\n",
            "    Uninstalling tensorboard-1.15.0:\n",
            "      Successfully uninstalled tensorboard-1.15.0\n",
            "  Found existing installation: tensorflow 1.15.0\n",
            "    Uninstalling tensorflow-1.15.0:\n",
            "      Successfully uninstalled tensorflow-1.15.0\n",
            "Successfully installed tensorboard-2.0.0 tensorflow-2.0.0 tensorflow-estimator-2.0.1\n"
          ],
          "name": "stdout"
        }
      ]
    },
    {
      "cell_type": "code",
      "metadata": {
        "id": "--tViDVHKVCw",
        "colab_type": "code",
        "colab": {}
      },
      "source": [
        "import tensorflow as tf\n",
        "import numpy as np"
      ],
      "execution_count": 0,
      "outputs": []
    },
    {
      "cell_type": "code",
      "metadata": {
        "id": "uEjjAqBOKbN3",
        "colab_type": "code",
        "colab": {
          "base_uri": "https://localhost:8080/",
          "height": 34
        },
        "outputId": "913ac938-55ef-453f-c64a-c16d2934b5b8"
      },
      "source": [
        "row_1 = tf.constant([1, 3, 3, 2])\n",
        "row_2 = tf.constant([3, 3, 3, 3])\n",
        "row_3 = tf.constant([3, 3, 3, 2])\n",
        "row_4 = tf.constant([1, 2, 3, 1])\n",
        "\n",
        "print(row_1, row_2, row_3, row_4)"
      ],
      "execution_count": 11,
      "outputs": [
        {
          "output_type": "stream",
          "text": [
            "tf.Tensor([1 3 3 2], shape=(4,), dtype=int32) tf.Tensor([3 3 3 3], shape=(4,), dtype=int32) tf.Tensor([3 3 3 2], shape=(4,), dtype=int32) tf.Tensor([1 2 3 1], shape=(4,), dtype=int32)\n"
          ],
          "name": "stdout"
        }
      ]
    },
    {
      "cell_type": "code",
      "metadata": {
        "id": "Jit8A9tAKoD6",
        "colab_type": "code",
        "colab": {
          "base_uri": "https://localhost:8080/",
          "height": 102
        },
        "outputId": "bd1c583e-1a0a-4079-facd-cd48c208e9c8"
      },
      "source": [
        "row_all = tf.stack([row_1, row_2, row_3, row_4])\n",
        "print(row_all)"
      ],
      "execution_count": 12,
      "outputs": [
        {
          "output_type": "stream",
          "text": [
            "tf.Tensor(\n",
            "[[1 3 3 2]\n",
            " [3 3 3 3]\n",
            " [3 3 3 2]\n",
            " [1 2 3 1]], shape=(4, 4), dtype=int32)\n"
          ],
          "name": "stdout"
        }
      ]
    },
    {
      "cell_type": "code",
      "metadata": {
        "id": "aWZvmEjlKogB",
        "colab_type": "code",
        "colab": {
          "base_uri": "https://localhost:8080/",
          "height": 51
        },
        "outputId": "fd7f4458-b5f6-4817-f1cc-dddf1daba7af"
      },
      "source": [
        "row_mean = tf.math.reduce_mean(tf.cast(row_all, tf.float32), axis=1)\n",
        "row_std = tf.math.reduce_std(tf.cast(row_all, tf.float32), axis=1)\n",
        "print(row_mean)\n",
        "print(row_std)"
      ],
      "execution_count": 13,
      "outputs": [
        {
          "output_type": "stream",
          "text": [
            "tf.Tensor([2.25 3.   2.75 1.75], shape=(4,), dtype=float32)\n",
            "tf.Tensor([0.8291562 0.        0.4330127 0.8291562], shape=(4,), dtype=float32)\n"
          ],
          "name": "stdout"
        }
      ]
    },
    {
      "cell_type": "code",
      "metadata": {
        "id": "2iclOmM9KwPy",
        "colab_type": "code",
        "colab": {
          "base_uri": "https://localhost:8080/",
          "height": 85
        },
        "outputId": "e84f0b89-e403-4da1-fbcd-af122cbc38fc"
      },
      "source": [
        "row_samples = tf.random.normal((3, 4), mean=row_mean, stddev=row_std)\n",
        "print(row_samples)"
      ],
      "execution_count": 14,
      "outputs": [
        {
          "output_type": "stream",
          "text": [
            "tf.Tensor(\n",
            "[[1.944572  3.        2.4350853 2.6285615]\n",
            " [1.7335504 3.        2.0393732 2.4383736]\n",
            " [2.8028297 3.        3.1509073 3.366663 ]], shape=(3, 4), dtype=float32)\n"
          ],
          "name": "stdout"
        }
      ]
    },
    {
      "cell_type": "code",
      "metadata": {
        "id": "2hZ5yHCIK1R5",
        "colab_type": "code",
        "colab": {
          "base_uri": "https://localhost:8080/",
          "height": 34
        },
        "outputId": "fcf78f21-7cd4-4d36-877c-184b7a1a13df"
      },
      "source": [
        "row_sample_min = tf.reduce_min(row_samples, axis=1)\n",
        "print(row_sample_min)"
      ],
      "execution_count": 15,
      "outputs": [
        {
          "output_type": "stream",
          "text": [
            "tf.Tensor([1.944572  1.7335504 2.8028297], shape=(3,), dtype=float32)\n"
          ],
          "name": "stdout"
        }
      ]
    },
    {
      "cell_type": "code",
      "metadata": {
        "id": "wGITsdTKK7B2",
        "colab_type": "code",
        "colab": {
          "base_uri": "https://localhost:8080/",
          "height": 34
        },
        "outputId": "3d5d08e3-3000-4df4-ceb6-408db63be5d9"
      },
      "source": [
        "row_sample_max = tf.reduce_max(row_samples, axis=1)\n",
        "print(row_sample_max)"
      ],
      "execution_count": 16,
      "outputs": [
        {
          "output_type": "stream",
          "text": [
            "tf.Tensor([3.       3.       3.366663], shape=(3,), dtype=float32)\n"
          ],
          "name": "stdout"
        }
      ]
    },
    {
      "cell_type": "code",
      "metadata": {
        "id": "Kq5WQ5FrK8Rr",
        "colab_type": "code",
        "colab": {
          "base_uri": "https://localhost:8080/",
          "height": 170
        },
        "outputId": "45b1cfc9-b163-4748-e311-bcdeef8a9ac1"
      },
      "source": [
        "row_augmented = tf.round(row_samples)\n",
        "row_augmented1 = tf.concat([tf.cast(row_all, tf.float32), row_augmented], axis=0)\n",
        "print(row_augmented1)\n",
        "print(row_augmented1.shape)"
      ],
      "execution_count": 17,
      "outputs": [
        {
          "output_type": "stream",
          "text": [
            "tf.Tensor(\n",
            "[[1. 3. 3. 2.]\n",
            " [3. 3. 3. 3.]\n",
            " [3. 3. 3. 2.]\n",
            " [1. 2. 3. 1.]\n",
            " [2. 3. 2. 3.]\n",
            " [2. 3. 2. 2.]\n",
            " [3. 3. 3. 3.]], shape=(7, 4), dtype=float32)\n",
            "(7, 4)\n"
          ],
          "name": "stdout"
        }
      ]
    },
    {
      "cell_type": "markdown",
      "metadata": {
        "id": "RQUaRvq7ObxY",
        "colab_type": "text"
      },
      "source": [
        "# Ex 4 ---Pytouch"
      ]
    },
    {
      "cell_type": "code",
      "metadata": {
        "id": "gticMxW8RrYF",
        "colab_type": "code",
        "colab": {
          "base_uri": "https://localhost:8080/",
          "height": 119
        },
        "outputId": "d74e2091-4079-422d-9f5c-c8d3812961b0"
      },
      "source": [
        "! pip install torch torchvision"
      ],
      "execution_count": 37,
      "outputs": [
        {
          "output_type": "stream",
          "text": [
            "Requirement already satisfied: torch in /usr/local/lib/python3.6/dist-packages (1.3.0+cu100)\n",
            "Requirement already satisfied: torchvision in /usr/local/lib/python3.6/dist-packages (0.4.1+cu100)\n",
            "Requirement already satisfied: numpy in /usr/local/lib/python3.6/dist-packages (from torch) (1.17.3)\n",
            "Requirement already satisfied: pillow>=4.1.1 in /usr/local/lib/python3.6/dist-packages (from torchvision) (4.3.0)\n",
            "Requirement already satisfied: six in /usr/local/lib/python3.6/dist-packages (from torchvision) (1.12.0)\n",
            "Requirement already satisfied: olefile in /usr/local/lib/python3.6/dist-packages (from pillow>=4.1.1->torchvision) (0.46)\n"
          ],
          "name": "stdout"
        }
      ]
    },
    {
      "cell_type": "code",
      "metadata": {
        "id": "KrwDHnzqRyV5",
        "colab_type": "code",
        "colab": {}
      },
      "source": [
        "import torch\n",
        "from torch import nn  \n",
        "import numpy as np"
      ],
      "execution_count": 0,
      "outputs": []
    },
    {
      "cell_type": "code",
      "metadata": {
        "id": "zD_vesmzR14T",
        "colab_type": "code",
        "colab": {}
      },
      "source": [
        "row_1 = torch.tensor([1.0,3.0,3.0,2.0])\n",
        "row_2 = torch.tensor([3.0,3.0,3.0,3.0])\n",
        "row_3 = torch.tensor([3.0,3.0,3.0,2.0])\n",
        "row_4 =torch.tensor([1.0,2.0,3.0,1.0])"
      ],
      "execution_count": 0,
      "outputs": []
    },
    {
      "cell_type": "code",
      "metadata": {
        "id": "OEeOuYyhR17X",
        "colab_type": "code",
        "colab": {
          "base_uri": "https://localhost:8080/",
          "height": 85
        },
        "outputId": "a10503c6-be19-4eac-c980-b58be06c71a6"
      },
      "source": [
        "list_tensor = [row_1, row_2, row_3, row_4]\n",
        "row_all = torch.stack(list_tensor)\n",
        "row_all"
      ],
      "execution_count": 40,
      "outputs": [
        {
          "output_type": "execute_result",
          "data": {
            "text/plain": [
              "tensor([[1., 3., 3., 2.],\n",
              "        [3., 3., 3., 3.],\n",
              "        [3., 3., 3., 2.],\n",
              "        [1., 2., 3., 1.]])"
            ]
          },
          "metadata": {
            "tags": []
          },
          "execution_count": 40
        }
      ]
    },
    {
      "cell_type": "code",
      "metadata": {
        "id": "l5Ccna6NR1_w",
        "colab_type": "code",
        "colab": {
          "base_uri": "https://localhost:8080/",
          "height": 34
        },
        "outputId": "d2b26cfe-15f8-49f5-b1a5-85c23e12fc1f"
      },
      "source": [
        "row_mean = torch.mean(row_all, 1)\n",
        "row_mean\n"
      ],
      "execution_count": 41,
      "outputs": [
        {
          "output_type": "execute_result",
          "data": {
            "text/plain": [
              "tensor([2.2500, 3.0000, 2.7500, 1.7500])"
            ]
          },
          "metadata": {
            "tags": []
          },
          "execution_count": 41
        }
      ]
    },
    {
      "cell_type": "code",
      "metadata": {
        "id": "yO93jhSjR2Cr",
        "colab_type": "code",
        "colab": {
          "base_uri": "https://localhost:8080/",
          "height": 85
        },
        "outputId": "2a185a9f-37a6-4337-c5b9-2af164066d28"
      },
      "source": [
        "row_std = torch.std(row_all,1)\n",
        "row_all"
      ],
      "execution_count": 42,
      "outputs": [
        {
          "output_type": "execute_result",
          "data": {
            "text/plain": [
              "tensor([[1., 3., 3., 2.],\n",
              "        [3., 3., 3., 3.],\n",
              "        [3., 3., 3., 2.],\n",
              "        [1., 2., 3., 1.]])"
            ]
          },
          "metadata": {
            "tags": []
          },
          "execution_count": 42
        }
      ]
    },
    {
      "cell_type": "code",
      "metadata": {
        "id": "iG4-eCaaSCKy",
        "colab_type": "code",
        "colab": {}
      },
      "source": [
        "import torch.distributions as tdist\n",
        "from torch.distributions import normal"
      ],
      "execution_count": 0,
      "outputs": []
    },
    {
      "cell_type": "code",
      "metadata": {
        "id": "Fc4AZwuVSCNq",
        "colab_type": "code",
        "colab": {
          "base_uri": "https://localhost:8080/",
          "height": 85
        },
        "outputId": "cc1f3419-96cf-4425-f994-161ce30d20d6"
      },
      "source": [
        "row_sample1 = torch.empty(4).normal_(mean=2.25,std=0.829)\n",
        "row_sample2 = torch.empty(4).normal_(mean=3,std=0.0001)\n",
        "row_sample3 = torch.empty(4).normal_(mean=2.75,std=0.4330)\n",
        "row_sample4 = torch.empty(4).normal_(mean=1.57,std=0.8291)\n",
        "row_sample = torch.stack((row_sample1,row_sample2, row_sample3, row_sample4) )\n",
        "print(row_sample)"
      ],
      "execution_count": 44,
      "outputs": [
        {
          "output_type": "stream",
          "text": [
            "tensor([[0.0580, 3.3158, 3.3601, 1.6035],\n",
            "        [3.0000, 3.0000, 2.9997, 3.0001],\n",
            "        [2.9077, 1.8687, 2.5717, 2.6317],\n",
            "        [1.3234, 2.0227, 0.8583, 0.3570]])\n"
          ],
          "name": "stdout"
        }
      ]
    },
    {
      "cell_type": "code",
      "metadata": {
        "id": "hZkd255OSCQw",
        "colab_type": "code",
        "colab": {
          "base_uri": "https://localhost:8080/",
          "height": 34
        },
        "outputId": "c370c1ec-49a0-4a28-e34c-8aa2f76dad4e"
      },
      "source": [
        "\n",
        "torch.max(row_sample, axis = 1)"
      ],
      "execution_count": 45,
      "outputs": [
        {
          "output_type": "execute_result",
          "data": {
            "text/plain": [
              "torch.return_types.max(values=tensor([3.3601, 3.0001, 2.9077, 2.0227]), indices=tensor([2, 3, 0, 1]))"
            ]
          },
          "metadata": {
            "tags": []
          },
          "execution_count": 45
        }
      ]
    },
    {
      "cell_type": "code",
      "metadata": {
        "id": "ylm_H17YR196",
        "colab_type": "code",
        "colab": {
          "base_uri": "https://localhost:8080/",
          "height": 34
        },
        "outputId": "b8bac0c7-a7d2-419e-dbe2-00945b951b4c"
      },
      "source": [
        "torch.min(row_sample, axis = 1)"
      ],
      "execution_count": 46,
      "outputs": [
        {
          "output_type": "execute_result",
          "data": {
            "text/plain": [
              "torch.return_types.min(values=tensor([0.0580, 2.9997, 1.8687, 0.3570]), indices=tensor([0, 2, 1, 3]))"
            ]
          },
          "metadata": {
            "tags": []
          },
          "execution_count": 46
        }
      ]
    },
    {
      "cell_type": "code",
      "metadata": {
        "id": "V1SAPdiTSU8s",
        "colab_type": "code",
        "colab": {
          "base_uri": "https://localhost:8080/",
          "height": 170
        },
        "outputId": "9f068df9-7164-4266-a84c-31bbad92f77e"
      },
      "source": [
        "row_augmented = torch.round(row_sample)\n",
        "\n",
        "row_augmented1 = torch.cat([row_all.float(), row_augmented ], axis=0)\n",
        "print(row_augmented1)\n",
        "print(row_augmented1.shape)"
      ],
      "execution_count": 47,
      "outputs": [
        {
          "output_type": "stream",
          "text": [
            "tensor([[1., 3., 3., 2.],\n",
            "        [3., 3., 3., 3.],\n",
            "        [3., 3., 3., 2.],\n",
            "        [1., 2., 3., 1.],\n",
            "        [0., 3., 3., 2.],\n",
            "        [3., 3., 3., 3.],\n",
            "        [3., 2., 3., 3.],\n",
            "        [1., 2., 1., 0.]])\n",
            "torch.Size([8, 4])\n"
          ],
          "name": "stdout"
        }
      ]
    },
    {
      "cell_type": "code",
      "metadata": {
        "id": "WvqEq-hySVRl",
        "colab_type": "code",
        "colab": {}
      },
      "source": [
        ""
      ],
      "execution_count": 0,
      "outputs": []
    },
    {
      "cell_type": "markdown",
      "metadata": {
        "colab_type": "text",
        "id": "YooU3__lScyI"
      },
      "source": [
        "# EX -3 --- Matrix / Tensor"
      ]
    },
    {
      "cell_type": "code",
      "metadata": {
        "id": "CCXeM1naRySV",
        "colab_type": "code",
        "colab": {}
      },
      "source": [
        ""
      ],
      "execution_count": 0,
      "outputs": []
    },
    {
      "cell_type": "code",
      "metadata": {
        "id": "B_fDNf0UK8VL",
        "colab_type": "code",
        "colab": {}
      },
      "source": [
        "#Tensor Ex 3"
      ],
      "execution_count": 0,
      "outputs": []
    },
    {
      "cell_type": "code",
      "metadata": {
        "id": "k4GtKv0tK8Y2",
        "colab_type": "code",
        "colab": {
          "base_uri": "https://localhost:8080/",
          "height": 34
        },
        "outputId": "fcb3fa43-6b08-4515-9204-49819888c9a5"
      },
      "source": [
        "m = 4\n",
        "n = 5\n",
        "\n",
        "L = 0\n",
        "H = 8\n",
        "\n",
        "x = tf.random.uniform([m,], L, H, dtype=tf.int64)\n",
        "x"
      ],
      "execution_count": 18,
      "outputs": [
        {
          "output_type": "execute_result",
          "data": {
            "text/plain": [
              "<tf.Tensor: id=31, shape=(4,), dtype=int64, numpy=array([1, 2, 4, 3])>"
            ]
          },
          "metadata": {
            "tags": []
          },
          "execution_count": 18
        }
      ]
    },
    {
      "cell_type": "code",
      "metadata": {
        "id": "DjyKvGgBLe4N",
        "colab_type": "code",
        "colab": {
          "base_uri": "https://localhost:8080/",
          "height": 34
        },
        "outputId": "e5660875-8f54-4cf8-fcc2-301e74f7bdf5"
      },
      "source": [
        "y =  tf.random.uniform([n,], L, H, dtype=tf.int64)\n",
        "y"
      ],
      "execution_count": 19,
      "outputs": [
        {
          "output_type": "execute_result",
          "data": {
            "text/plain": [
              "<tf.Tensor: id=35, shape=(5,), dtype=int64, numpy=array([4, 6, 7, 7, 1])>"
            ]
          },
          "metadata": {
            "tags": []
          },
          "execution_count": 19
        }
      ]
    },
    {
      "cell_type": "code",
      "metadata": {
        "id": "Dgn9ESuaLe7g",
        "colab_type": "code",
        "colab": {
          "base_uri": "https://localhost:8080/",
          "height": 102
        },
        "outputId": "45a74d14-6666-4357-8a28-777058bf1be4"
      },
      "source": [
        "A  = tf.random.uniform([m,n], L, H, dtype=tf.int64)\n",
        "A"
      ],
      "execution_count": 20,
      "outputs": [
        {
          "output_type": "execute_result",
          "data": {
            "text/plain": [
              "<tf.Tensor: id=39, shape=(4, 5), dtype=int64, numpy=\n",
              "array([[7, 0, 5, 6, 7],\n",
              "       [6, 5, 4, 5, 6],\n",
              "       [4, 6, 1, 2, 2],\n",
              "       [7, 5, 5, 3, 1]])>"
            ]
          },
          "metadata": {
            "tags": []
          },
          "execution_count": 20
        }
      ]
    },
    {
      "cell_type": "code",
      "metadata": {
        "id": "G02zfjOvLe-3",
        "colab_type": "code",
        "colab": {
          "base_uri": "https://localhost:8080/",
          "height": 119
        },
        "outputId": "693d1cea-1076-4a4f-e299-a243d1ea380b"
      },
      "source": [
        "B  = tf.random.uniform([n,m], L, H, dtype=tf.int64)\n",
        "B"
      ],
      "execution_count": 21,
      "outputs": [
        {
          "output_type": "execute_result",
          "data": {
            "text/plain": [
              "<tf.Tensor: id=43, shape=(5, 4), dtype=int64, numpy=\n",
              "array([[5, 7, 2, 5],\n",
              "       [0, 4, 7, 4],\n",
              "       [3, 4, 7, 5],\n",
              "       [7, 1, 7, 1],\n",
              "       [2, 6, 3, 6]])>"
            ]
          },
          "metadata": {
            "tags": []
          },
          "execution_count": 21
        }
      ]
    },
    {
      "cell_type": "code",
      "metadata": {
        "id": "Dbf104WjLfDR",
        "colab_type": "code",
        "colab": {}
      },
      "source": [
        "# Dot Product"
      ],
      "execution_count": 0,
      "outputs": []
    },
    {
      "cell_type": "code",
      "metadata": {
        "id": "cXRFlaHBLfHL",
        "colab_type": "code",
        "colab": {
          "base_uri": "https://localhost:8080/",
          "height": 119
        },
        "outputId": "e36bce60-da82-45b0-91a8-4e3c9118e741"
      },
      "source": [
        "C = tf.linalg.matmul(A, B)\n",
        "D = tf.linalg.matmul(B, A) \n",
        "P = tf.matmul(tf.transpose(A) ,tf.expand_dims(tf.cast(x, tf.int64), 1))\n",
        "P = tf.reshape(P, (-1,))\n",
        "q = tf.matmul(tf.transpose(A) ,tf.expand_dims(tf.cast(y, tf.int64), 1), transpose_a=True)\n",
        "q = tf.reshape(q, (-1,))\n",
        "g = tf.matmul(tf.transpose(B) ,tf.expand_dims(tf.cast(x, tf.int64), 1), transpose_a=True)\n",
        "g = tf.reshape(g, (-1,))\n",
        "h = tf.matmul(tf.transpose(B) ,tf.expand_dims(tf.cast(y, tf.int64), 1))\n",
        "h = tf.reshape(h, (-1,))\n",
        "print(C.shape)\n",
        "print(D.shape)\n",
        "print(P.shape)\n",
        "print(q.shape)\n",
        "print(g.shape)\n",
        "print(h.shape)\n"
      ],
      "execution_count": 22,
      "outputs": [
        {
          "output_type": "stream",
          "text": [
            "(4, 4)\n",
            "(5, 5)\n",
            "(5,)\n",
            "(4,)\n",
            "(5,)\n",
            "(4,)\n"
          ],
          "name": "stdout"
        }
      ]
    },
    {
      "cell_type": "code",
      "metadata": {
        "id": "wTMHXTVtLvEx",
        "colab_type": "code",
        "colab": {}
      },
      "source": [
        "#Outer Product"
      ],
      "execution_count": 0,
      "outputs": []
    },
    {
      "cell_type": "code",
      "metadata": {
        "id": "NlpyO4RgLvIi",
        "colab_type": "code",
        "colab": {
          "base_uri": "https://localhost:8080/",
          "height": 204
        },
        "outputId": "83cab75e-d52a-4192-e744-55d1d0217662"
      },
      "source": [
        "E = tf.tensordot(x, y, axes= 0)\n",
        "F= tf.tensordot(y, x, axes= 0)\n",
        "print(E)\n",
        "print(F)"
      ],
      "execution_count": 23,
      "outputs": [
        {
          "output_type": "stream",
          "text": [
            "tf.Tensor(\n",
            "[[ 4  6  7  7  1]\n",
            " [ 8 12 14 14  2]\n",
            " [16 24 28 28  4]\n",
            " [12 18 21 21  3]], shape=(4, 5), dtype=int64)\n",
            "tf.Tensor(\n",
            "[[ 4  8 16 12]\n",
            " [ 6 12 24 18]\n",
            " [ 7 14 28 21]\n",
            " [ 7 14 28 21]\n",
            " [ 1  2  4  3]], shape=(5, 4), dtype=int64)\n"
          ],
          "name": "stdout"
        }
      ]
    },
    {
      "cell_type": "code",
      "metadata": {
        "id": "r3HtUz9TLvMV",
        "colab_type": "code",
        "colab": {}
      },
      "source": [
        "l1_P = tf.linalg.norm(P, 1)\n",
        "l1_q = tf.linalg.norm(q, 1)\n",
        "l1_g = tf.linalg.norm(g, 1)\n",
        "l1_h = tf.linalg.norm(h, 1)\n",
        "l1_E = tf.linalg.norm(E, 1)\n",
        "l1_F = tf.linalg.norm(F, 1)\n",
        "l1_x = tf.linalg.norm(x, 1)\n",
        "l1_y = tf.linalg.norm(y, 1)"
      ],
      "execution_count": 0,
      "outputs": []
    },
    {
      "cell_type": "code",
      "metadata": {
        "id": "H1olNJfgLvYO",
        "colab_type": "code",
        "colab": {
          "base_uri": "https://localhost:8080/",
          "height": 153
        },
        "outputId": "9f46748a-911b-44ab-81fd-8b4ab32543b2"
      },
      "source": [
        "print(l1_P)\n",
        "print(l1_q)\n",
        "print(l1_g)\n",
        "print(l1_h)\n",
        "print(l1_E)\n",
        "print(l1_F)\n",
        "print(l1_x)\n",
        "print(l1_y)"
      ],
      "execution_count": 25,
      "outputs": [
        {
          "output_type": "stream",
          "text": [
            "tf.Tensor(200, shape=(), dtype=int64)\n",
            "tf.Tensor(425, shape=(), dtype=int64)\n",
            "tf.Tensor(228, shape=(), dtype=int64)\n",
            "tf.Tensor(428, shape=(), dtype=int64)\n",
            "tf.Tensor(250, shape=(), dtype=int64)\n",
            "tf.Tensor(250, shape=(), dtype=int64)\n",
            "tf.Tensor(10, shape=(), dtype=int64)\n",
            "tf.Tensor(25, shape=(), dtype=int64)\n"
          ],
          "name": "stdout"
        }
      ]
    },
    {
      "cell_type": "code",
      "metadata": {
        "id": "SL7-Mq2eLvd1",
        "colab_type": "code",
        "colab": {
          "base_uri": "https://localhost:8080/",
          "height": 34
        },
        "outputId": "214423b3-8627-472d-8a39-65fe0d806476"
      },
      "source": [
        "print(P)"
      ],
      "execution_count": 26,
      "outputs": [
        {
          "output_type": "stream",
          "text": [
            "tf.Tensor([56 49 32 33 30], shape=(5,), dtype=int64)\n"
          ],
          "name": "stdout"
        }
      ]
    },
    {
      "cell_type": "code",
      "metadata": {
        "id": "mqMusNLYLvbh",
        "colab_type": "code",
        "colab": {}
      },
      "source": [
        "l2_P = tf.linalg.norm(tf.cast(P, tf.float32), 2)\n",
        "l2_q = tf.linalg.norm(tf.cast(q, tf.float32), 2)\n",
        "l2_g = tf.linalg.norm(tf.cast(g, tf.float32), 2)\n",
        "l2_h = tf.linalg.norm(tf.cast(h, tf.float32), 2)\n",
        "l2_E = tf.linalg.norm(tf.cast(E, tf.float32), 2)\n",
        "l2_F = tf.linalg.norm(tf.cast(F, tf.float32), 2)\n",
        "l2_x = tf.linalg.norm(tf.cast(x, tf.float32), 2)\n",
        "l2_y = tf.linalg.norm(tf.cast(y, tf.float32), 2)"
      ],
      "execution_count": 0,
      "outputs": []
    },
    {
      "cell_type": "code",
      "metadata": {
        "id": "HATA1HReMmPP",
        "colab_type": "code",
        "colab": {
          "base_uri": "https://localhost:8080/",
          "height": 153
        },
        "outputId": "7ae386ec-cd5f-44f9-de42-1291d9aad0f8"
      },
      "source": [
        "print(l2_P)\n",
        "print(l2_q)\n",
        "print(l2_g)\n",
        "print(l2_h)\n",
        "print(l2_E)\n",
        "print(l2_F)\n",
        "print(l2_x)\n",
        "print(l2_y)"
      ],
      "execution_count": 28,
      "outputs": [
        {
          "output_type": "stream",
          "text": [
            "tf.Tensor(92.46621, shape=(), dtype=float32)\n",
            "tf.Tensor(215.69191, shape=(), dtype=float32)\n",
            "tf.Tensor(102.567055, shape=(), dtype=float32)\n",
            "tf.Tensor(219.95, shape=(), dtype=float32)\n",
            "tf.Tensor(67.305275, shape=(), dtype=float32)\n",
            "tf.Tensor(67.305275, shape=(), dtype=float32)\n",
            "tf.Tensor(5.477226, shape=(), dtype=float32)\n",
            "tf.Tensor(12.288206, shape=(), dtype=float32)\n"
          ],
          "name": "stdout"
        }
      ]
    },
    {
      "cell_type": "code",
      "metadata": {
        "id": "fPymVMA3MmaS",
        "colab_type": "code",
        "colab": {}
      },
      "source": [
        "lP_inf = np.linalg.norm(P, np.infty)\n",
        "lq_inf = np.linalg.norm(q, np.infty)\n",
        "lg_inf = np.linalg.norm(g, np.infty)\n",
        "lh_inf = np.linalg.norm(h, np.infty)\n",
        "lE_inf = np.linalg.norm(E, np.infty)\n",
        "lF_inf = np.linalg.norm(F, np.infty)\n",
        "lx_inf = np.linalg.norm(x, np.infty)\n",
        "ly_inf = np.linalg.norm(y, np.infty)"
      ],
      "execution_count": 0,
      "outputs": []
    },
    {
      "cell_type": "code",
      "metadata": {
        "id": "R2jtQa6FMmeQ",
        "colab_type": "code",
        "colab": {
          "base_uri": "https://localhost:8080/",
          "height": 119
        },
        "outputId": "823a8026-dfff-4461-cb0c-a92ca1c55e48"
      },
      "source": [
        "print(lP_inf)\n",
        "print(lq_inf)\n",
        "print(lg_inf)\n",
        "print(lh_inf)\n",
        "print(lx_inf)\n",
        "print(ly_inf)"
      ],
      "execution_count": 30,
      "outputs": [
        {
          "output_type": "stream",
          "text": [
            "56.0\n",
            "123.0\n",
            "54.0\n",
            "151.0\n",
            "4.0\n",
            "7.0\n"
          ],
          "name": "stdout"
        }
      ]
    },
    {
      "cell_type": "code",
      "metadata": {
        "id": "Qn2KnkOqMmhZ",
        "colab_type": "code",
        "colab": {}
      },
      "source": [
        "#frobenious norm**"
      ],
      "execution_count": 0,
      "outputs": []
    },
    {
      "cell_type": "code",
      "metadata": {
        "id": "b-wHbInsMmqv",
        "colab_type": "code",
        "colab": {
          "base_uri": "https://localhost:8080/",
          "height": 153
        },
        "outputId": "8282714a-9210-4924-9a1a-baa6f39662a2"
      },
      "source": [
        "forbenious_norm_C =  tf.linalg.norm(tf.cast(C, tf.float32))\n",
        "forbenious_norm_D =  tf.linalg.norm(tf.cast(D, tf.float32))\n",
        "forbenious_norm_P =  tf.linalg.norm(tf.cast(P, tf.float32))\n",
        "forbenious_norm_q =  tf.linalg.norm(tf.cast(g, tf.float32))\n",
        "forbenious_norm_q =  tf.linalg.norm(tf.cast(q, tf.float32))\n",
        "forbenious_norm_h =  tf.linalg.norm(tf.cast(h, tf.float32))\n",
        "forbenious_norm_E = tf.linalg.norm(tf.cast(E, tf.float32))\n",
        "forbenious_norm_F = tf.linalg.norm(tf.cast(F, tf.float32))\n",
        "print(forbenious_norm_C)\n",
        "print(forbenious_norm_D)\n",
        "print(forbenious_norm_P)\n",
        "print(forbenious_norm_q)\n",
        "print(forbenious_norm_q)\n",
        "print(forbenious_norm_h)\n",
        "print(forbenious_norm_E)\n",
        "print(forbenious_norm_F)"
      ],
      "execution_count": 31,
      "outputs": [
        {
          "output_type": "stream",
          "text": [
            "tf.Tensor(388.48038, shape=(), dtype=float32)\n",
            "tf.Tensor(378.24066, shape=(), dtype=float32)\n",
            "tf.Tensor(92.46621, shape=(), dtype=float32)\n",
            "tf.Tensor(215.69191, shape=(), dtype=float32)\n",
            "tf.Tensor(215.69191, shape=(), dtype=float32)\n",
            "tf.Tensor(219.95, shape=(), dtype=float32)\n",
            "tf.Tensor(67.305275, shape=(), dtype=float32)\n",
            "tf.Tensor(67.305275, shape=(), dtype=float32)\n"
          ],
          "name": "stdout"
        }
      ]
    },
    {
      "cell_type": "code",
      "metadata": {
        "id": "uAHr9mfZMmkf",
        "colab_type": "code",
        "colab": {}
      },
      "source": [
        "#Trace"
      ],
      "execution_count": 0,
      "outputs": []
    },
    {
      "cell_type": "code",
      "metadata": {
        "id": "7IaJgT55Mmt3",
        "colab_type": "code",
        "colab": {
          "base_uri": "https://localhost:8080/",
          "height": 85
        },
        "outputId": "d70ed5fd-1121-4050-a370-c539537a4f12"
      },
      "source": [
        "trace_C = tf.linalg.trace(C)\n",
        "trace_D = tf.linalg.trace(D)\n",
        "trace_E = tf.linalg.trace(E)\n",
        "trace_F = tf.linalg.trace(F)\n",
        "print(trace_C)\n",
        "print(trace_D)\n",
        "print(trace_E)\n",
        "print(trace_F)"
      ],
      "execution_count": 32,
      "outputs": [
        {
          "output_type": "stream",
          "text": [
            "tf.Tensor(391, shape=(), dtype=int64)\n",
            "tf.Tensor(391, shape=(), dtype=int64)\n",
            "tf.Tensor(65, shape=(), dtype=int64)\n",
            "tf.Tensor(65, shape=(), dtype=int64)\n"
          ],
          "name": "stdout"
        }
      ]
    },
    {
      "cell_type": "code",
      "metadata": {
        "id": "V3W2QHiaMmnp",
        "colab_type": "code",
        "colab": {}
      },
      "source": [
        "# cant compute the trace of one dimentional array hence;\n",
        "\n",
        "#trace_P = tf.linalg.trace(P)\n",
        "#trac_q= tf.linalg.trace(q)\n",
        "#trace_g = tf.linalg.trace(g)\n",
        "#trace_h = tf.linalg.trace(h)"
      ],
      "execution_count": 0,
      "outputs": []
    },
    {
      "cell_type": "code",
      "metadata": {
        "id": "UWUTTez-NmkY",
        "colab_type": "code",
        "colab": {}
      },
      "source": [
        "#Det or the determinant of the matrix"
      ],
      "execution_count": 0,
      "outputs": []
    },
    {
      "cell_type": "code",
      "metadata": {
        "id": "8BLhKmEwNmt7",
        "colab_type": "code",
        "colab": {
          "base_uri": "https://localhost:8080/",
          "height": 51
        },
        "outputId": "ccae5493-0a7f-4c96-ea42-116850df1c0e"
      },
      "source": [
        "det_C = tf.linalg.det(tf.cast(C, tf.float32))\n",
        "det_D = tf.linalg.det(tf.cast(D, tf.float32))\n",
        "print(det_C)\n",
        "print(det_D)"
      ],
      "execution_count": 33,
      "outputs": [
        {
          "output_type": "stream",
          "text": [
            "tf.Tensor(51923.996, shape=(), dtype=float32)\n",
            "tf.Tensor(-0.7291478, shape=(), dtype=float32)\n"
          ],
          "name": "stdout"
        }
      ]
    },
    {
      "cell_type": "code",
      "metadata": {
        "id": "PG1HCkj7Nm3C",
        "colab_type": "code",
        "colab": {
          "base_uri": "https://localhost:8080/",
          "height": 204
        },
        "outputId": "e815b9aa-ba07-4a41-8d11-41d5d39ec5a8"
      },
      "source": [
        "inver_C = tf.linalg.inv(tf.cast(C, tf.float32))\n",
        "inver_D = tf.linalg.inv(tf.cast(D, tf.float32))\n",
        "print(inver_C)\n",
        "print(inver_D)"
      ],
      "execution_count": 34,
      "outputs": [
        {
          "output_type": "stream",
          "text": [
            "tf.Tensor(\n",
            "[[ 0.00417922 -0.01873902 -0.0832755   0.07724753]\n",
            " [ 0.12445108 -0.3322161   0.26669738  0.07453192]\n",
            " [-0.06120479  0.01636998 -0.10299662  0.1267622 ]\n",
            " [-0.06619292  0.3613165  -0.10037748 -0.28801703]], shape=(4, 4), dtype=float32)\n",
            "tf.Tensor(\n",
            "[[ -27648.83     11629.838   -55297.18     27209.844    56833.484 ]\n",
            " [   2073.7004    -872.1406    4147.1914   -2040.7408   -4262.5186]\n",
            " [ -22118.8       9304.097   -44238.02     21767.75     45466.703 ]\n",
            " [ 116815.58    -49136.94    233631.61   -114961.41   -240121.16  ]\n",
            " [ -56679.66     23841.732  -113359.89     55780.12    116508.445 ]], shape=(5, 5), dtype=float32)\n"
          ],
          "name": "stdout"
        }
      ]
    },
    {
      "cell_type": "code",
      "metadata": {
        "id": "7GL2NBQ2Nm_H",
        "colab_type": "code",
        "colab": {}
      },
      "source": [
        "#THE DET IS EQUAL TO ZERO SO THERE IS NO INVERSE, hence;\n",
        "\n",
        "#det_P = tf.linalg.det(P)\n",
        "#det_q = tf.linalg.det(q)\n",
        "#det_g = tf.linalg.det(g)\n",
        "#det_h = tf.linalg.det(h) \n",
        "\n",
        "\n",
        "#CAN NOT FIND THE DET AND INVERSE"
      ],
      "execution_count": 0,
      "outputs": []
    },
    {
      "cell_type": "code",
      "metadata": {
        "id": "ZUh1Fj2eNm0U",
        "colab_type": "code",
        "colab": {}
      },
      "source": [
        ""
      ],
      "execution_count": 0,
      "outputs": []
    },
    {
      "cell_type": "markdown",
      "metadata": {
        "id": "baE9mm0GFP5d",
        "colab_type": "text"
      },
      "source": [
        "# EX-2 --Numpy/Pandas\n"
      ]
    },
    {
      "cell_type": "code",
      "metadata": {
        "id": "j3MgWQLm5BEe",
        "colab_type": "code",
        "outputId": "9caba2ba-7cb1-4883-9c16-ccc03446c25e",
        "colab": {
          "base_uri": "https://localhost:8080/",
          "height": 124
        }
      },
      "source": [
        "import numpy as np\n",
        "import pandas as pd\n",
        "import matplotlib.pyplot as plt\n",
        "\n",
        "\n",
        "from google.colab import drive \n",
        "drive.mount('/content/gdrive')     #mounting google drive path\n",
        "\n",
        "train_df=pd.read_csv('/content/gdrive/My Drive/train.csv') #Read a comma-separated values (csv) file into DataFrame.\n"
      ],
      "execution_count": 0,
      "outputs": [
        {
          "output_type": "stream",
          "text": [
            "Go to this URL in a browser: https://accounts.google.com/o/oauth2/auth?client_id=947318989803-6bn6qk8qdgf4n4g3pfee6491hc0brc4i.apps.googleusercontent.com&redirect_uri=urn%3Aietf%3Awg%3Aoauth%3A2.0%3Aoob&scope=email%20https%3A%2F%2Fwww.googleapis.com%2Fauth%2Fdocs.test%20https%3A%2F%2Fwww.googleapis.com%2Fauth%2Fdrive%20https%3A%2F%2Fwww.googleapis.com%2Fauth%2Fdrive.photos.readonly%20https%3A%2F%2Fwww.googleapis.com%2Fauth%2Fpeopleapi.readonly&response_type=code\n",
            "\n",
            "Enter your authorization code:\n",
            "··········\n",
            "Mounted at /content/gdrive\n"
          ],
          "name": "stdout"
        }
      ]
    },
    {
      "cell_type": "code",
      "metadata": {
        "id": "woH7lryXAQS4",
        "colab_type": "code",
        "outputId": "1cd21c4a-ff10-4741-9397-f460076b8ccf",
        "colab": {
          "base_uri": "https://localhost:8080/",
          "height": 364
        }
      },
      "source": [
        "train_df.info() #returns concise summary about the DataFram\n"
      ],
      "execution_count": 0,
      "outputs": [
        {
          "output_type": "stream",
          "text": [
            "<class 'pandas.core.frame.DataFrame'>\n",
            "RangeIndex: 333 entries, 0 to 332\n",
            "Data columns (total 15 columns):\n",
            "ID         333 non-null int64\n",
            "crim       333 non-null float64\n",
            "zn         333 non-null float64\n",
            "indus      333 non-null float64\n",
            "chas       333 non-null int64\n",
            "nox        333 non-null float64\n",
            "rm         333 non-null float64\n",
            "age        333 non-null float64\n",
            "dis        333 non-null float64\n",
            "rad        333 non-null int64\n",
            "tax        333 non-null int64\n",
            "ptratio    333 non-null float64\n",
            "black      333 non-null float64\n",
            "lstat      333 non-null float64\n",
            "medv       333 non-null float64\n",
            "dtypes: float64(11), int64(4)\n",
            "memory usage: 39.1 KB\n"
          ],
          "name": "stdout"
        }
      ]
    },
    {
      "cell_type": "markdown",
      "metadata": {
        "id": "1s9pgExKIFKC",
        "colab_type": "text"
      },
      "source": [
        ""
      ]
    },
    {
      "cell_type": "code",
      "metadata": {
        "id": "iyWB0fWzAmHy",
        "colab_type": "code",
        "outputId": "86f34a91-c8ae-41c6-daa4-e9cd876515c3",
        "colab": {
          "base_uri": "https://localhost:8080/",
          "height": 206
        }
      },
      "source": [
        "train_df.head() #returns the first 'n' rows"
      ],
      "execution_count": 0,
      "outputs": [
        {
          "output_type": "execute_result",
          "data": {
            "text/html": [
              "<div>\n",
              "<style scoped>\n",
              "    .dataframe tbody tr th:only-of-type {\n",
              "        vertical-align: middle;\n",
              "    }\n",
              "\n",
              "    .dataframe tbody tr th {\n",
              "        vertical-align: top;\n",
              "    }\n",
              "\n",
              "    .dataframe thead th {\n",
              "        text-align: right;\n",
              "    }\n",
              "</style>\n",
              "<table border=\"1\" class=\"dataframe\">\n",
              "  <thead>\n",
              "    <tr style=\"text-align: right;\">\n",
              "      <th></th>\n",
              "      <th>ID</th>\n",
              "      <th>crim</th>\n",
              "      <th>zn</th>\n",
              "      <th>indus</th>\n",
              "      <th>chas</th>\n",
              "      <th>nox</th>\n",
              "      <th>rm</th>\n",
              "      <th>age</th>\n",
              "      <th>dis</th>\n",
              "      <th>rad</th>\n",
              "      <th>tax</th>\n",
              "      <th>ptratio</th>\n",
              "      <th>black</th>\n",
              "      <th>lstat</th>\n",
              "      <th>medv</th>\n",
              "    </tr>\n",
              "  </thead>\n",
              "  <tbody>\n",
              "    <tr>\n",
              "      <th>0</th>\n",
              "      <td>1</td>\n",
              "      <td>0.00632</td>\n",
              "      <td>18.0</td>\n",
              "      <td>2.31</td>\n",
              "      <td>0</td>\n",
              "      <td>0.538</td>\n",
              "      <td>6.575</td>\n",
              "      <td>65.2</td>\n",
              "      <td>4.0900</td>\n",
              "      <td>1</td>\n",
              "      <td>296</td>\n",
              "      <td>15.3</td>\n",
              "      <td>396.90</td>\n",
              "      <td>4.98</td>\n",
              "      <td>24.0</td>\n",
              "    </tr>\n",
              "    <tr>\n",
              "      <th>1</th>\n",
              "      <td>2</td>\n",
              "      <td>0.02731</td>\n",
              "      <td>0.0</td>\n",
              "      <td>7.07</td>\n",
              "      <td>0</td>\n",
              "      <td>0.469</td>\n",
              "      <td>6.421</td>\n",
              "      <td>78.9</td>\n",
              "      <td>4.9671</td>\n",
              "      <td>2</td>\n",
              "      <td>242</td>\n",
              "      <td>17.8</td>\n",
              "      <td>396.90</td>\n",
              "      <td>9.14</td>\n",
              "      <td>21.6</td>\n",
              "    </tr>\n",
              "    <tr>\n",
              "      <th>2</th>\n",
              "      <td>4</td>\n",
              "      <td>0.03237</td>\n",
              "      <td>0.0</td>\n",
              "      <td>2.18</td>\n",
              "      <td>0</td>\n",
              "      <td>0.458</td>\n",
              "      <td>6.998</td>\n",
              "      <td>45.8</td>\n",
              "      <td>6.0622</td>\n",
              "      <td>3</td>\n",
              "      <td>222</td>\n",
              "      <td>18.7</td>\n",
              "      <td>394.63</td>\n",
              "      <td>2.94</td>\n",
              "      <td>33.4</td>\n",
              "    </tr>\n",
              "    <tr>\n",
              "      <th>3</th>\n",
              "      <td>5</td>\n",
              "      <td>0.06905</td>\n",
              "      <td>0.0</td>\n",
              "      <td>2.18</td>\n",
              "      <td>0</td>\n",
              "      <td>0.458</td>\n",
              "      <td>7.147</td>\n",
              "      <td>54.2</td>\n",
              "      <td>6.0622</td>\n",
              "      <td>3</td>\n",
              "      <td>222</td>\n",
              "      <td>18.7</td>\n",
              "      <td>396.90</td>\n",
              "      <td>5.33</td>\n",
              "      <td>36.2</td>\n",
              "    </tr>\n",
              "    <tr>\n",
              "      <th>4</th>\n",
              "      <td>7</td>\n",
              "      <td>0.08829</td>\n",
              "      <td>12.5</td>\n",
              "      <td>7.87</td>\n",
              "      <td>0</td>\n",
              "      <td>0.524</td>\n",
              "      <td>6.012</td>\n",
              "      <td>66.6</td>\n",
              "      <td>5.5605</td>\n",
              "      <td>5</td>\n",
              "      <td>311</td>\n",
              "      <td>15.2</td>\n",
              "      <td>395.60</td>\n",
              "      <td>12.43</td>\n",
              "      <td>22.9</td>\n",
              "    </tr>\n",
              "  </tbody>\n",
              "</table>\n",
              "</div>"
            ],
            "text/plain": [
              "   ID     crim    zn  indus  chas  ...  tax  ptratio   black  lstat  medv\n",
              "0   1  0.00632  18.0   2.31     0  ...  296     15.3  396.90   4.98  24.0\n",
              "1   2  0.02731   0.0   7.07     0  ...  242     17.8  396.90   9.14  21.6\n",
              "2   4  0.03237   0.0   2.18     0  ...  222     18.7  394.63   2.94  33.4\n",
              "3   5  0.06905   0.0   2.18     0  ...  222     18.7  396.90   5.33  36.2\n",
              "4   7  0.08829  12.5   7.87     0  ...  311     15.2  395.60  12.43  22.9\n",
              "\n",
              "[5 rows x 15 columns]"
            ]
          },
          "metadata": {
            "tags": []
          },
          "execution_count": 13
        }
      ]
    },
    {
      "cell_type": "code",
      "metadata": {
        "id": "5kqe41HWBBFI",
        "colab_type": "code",
        "outputId": "b88c0aa9-4a60-49d5-aaf5-eafd2b98c563",
        "colab": {
          "base_uri": "https://localhost:8080/",
          "height": 206
        }
      },
      "source": [
        "train_df[['lstat', \"medv\"]].head()    #"
      ],
      "execution_count": 0,
      "outputs": [
        {
          "output_type": "execute_result",
          "data": {
            "text/html": [
              "<div>\n",
              "<style scoped>\n",
              "    .dataframe tbody tr th:only-of-type {\n",
              "        vertical-align: middle;\n",
              "    }\n",
              "\n",
              "    .dataframe tbody tr th {\n",
              "        vertical-align: top;\n",
              "    }\n",
              "\n",
              "    .dataframe thead th {\n",
              "        text-align: right;\n",
              "    }\n",
              "</style>\n",
              "<table border=\"1\" class=\"dataframe\">\n",
              "  <thead>\n",
              "    <tr style=\"text-align: right;\">\n",
              "      <th></th>\n",
              "      <th>lstat</th>\n",
              "      <th>medv</th>\n",
              "    </tr>\n",
              "  </thead>\n",
              "  <tbody>\n",
              "    <tr>\n",
              "      <th>0</th>\n",
              "      <td>4.98</td>\n",
              "      <td>24.0</td>\n",
              "    </tr>\n",
              "    <tr>\n",
              "      <th>1</th>\n",
              "      <td>9.14</td>\n",
              "      <td>21.6</td>\n",
              "    </tr>\n",
              "    <tr>\n",
              "      <th>2</th>\n",
              "      <td>2.94</td>\n",
              "      <td>33.4</td>\n",
              "    </tr>\n",
              "    <tr>\n",
              "      <th>3</th>\n",
              "      <td>5.33</td>\n",
              "      <td>36.2</td>\n",
              "    </tr>\n",
              "    <tr>\n",
              "      <th>4</th>\n",
              "      <td>12.43</td>\n",
              "      <td>22.9</td>\n",
              "    </tr>\n",
              "  </tbody>\n",
              "</table>\n",
              "</div>"
            ],
            "text/plain": [
              "   lstat  medv\n",
              "0   4.98  24.0\n",
              "1   9.14  21.6\n",
              "2   2.94  33.4\n",
              "3   5.33  36.2\n",
              "4  12.43  22.9"
            ]
          },
          "metadata": {
            "tags": []
          },
          "execution_count": 15
        }
      ]
    },
    {
      "cell_type": "code",
      "metadata": {
        "id": "Bnw3S4JMEmJv",
        "colab_type": "code",
        "outputId": "c91a1399-dea1-4cdf-aa6c-259a4a466afc",
        "colab": {
          "base_uri": "https://localhost:8080/",
          "height": 283
        }
      },
      "source": [
        "_lstat=train_df[\"lstat\"].values\n",
        "_medv=train_df[\"medv\"].values\n",
        "\n",
        "plt.scatter(_lstat, _medv)\n",
        "plt.xlabel(\"Last Statistics\")\n",
        "plt.ylabel(\"Median Values\")\n",
        "\n",
        "plt.show()                                       #Scatter diagram"
      ],
      "execution_count": 0,
      "outputs": [
        {
          "output_type": "display_data",
          "data": {
            "image/png": "[encoded data removed]",
            "text/plain": [
              "<Figure size 432x288 with 1 Axes>"
            ]
          },
          "metadata": {
            "tags": []
          }
        }
      ]
    },
    {
      "cell_type": "code",
      "metadata": {
        "id": "8-WwxSNTLi9d",
        "colab_type": "code",
        "colab": {}
      },
      "source": [
        "_ls=np.linspace(min(_lstat), max(_lstat)).reshape(-1, 1)\n",
        "_mv=np.linspace(min(_medv), max(_medv)).reshape(-1, 1)\n",
        "\n"
      ],
      "execution_count": 0,
      "outputs": []
    },
    {
      "cell_type": "code",
      "metadata": {
        "id": "YY7HsSiRNpYB",
        "colab_type": "code",
        "outputId": "a627af14-43be-4070-abeb-cd075848623c",
        "colab": {
          "base_uri": "https://localhost:8080/",
          "height": 283
        }
      },
      "source": [
        "plt.scatter(_lstat, _medv)\n",
        "plt.plot(_ls, _mv, color='red', linewidth=3)\n",
        "plt.xlabel('Last Statistics')\n",
        "plt.ylabel('Median Value')\n",
        "plt.show()                                   # Line of best fit                                        "
      ],
      "execution_count": 0,
      "outputs": [
        {
          "output_type": "display_data",
          "data": {
            "image/png": "[encoded data removed]",
            "text/plain": [
              "<Figure size 432x288 with 1 Axes>"
            ]
          },
          "metadata": {
            "tags": []
          }
        }
      ]
    },
    {
      "cell_type": "code",
      "metadata": {
        "id": "g6eFQqf7USL-",
        "colab_type": "code",
        "colab": {}
      },
      "source": [
        "train_df['constant'] = 1\n",
        "columns = ['constant', 'crim', 'zn', 'indus', 'chas', 'nox', 'rm', 'age', 'dis', 'rad', 'tax', 'ptratio', 'black', 'lstat']\n",
        "x = train_df[columns].values"
      ],
      "execution_count": 0,
      "outputs": []
    },
    {
      "cell_type": "code",
      "metadata": {
        "id": "lVufF4tKkI02",
        "colab_type": "code",
        "outputId": "eefc2592-7093-4857-bcf2-bc3d47c6a953",
        "colab": {
          "base_uri": "https://localhost:8080/",
          "height": 1000
        }
      },
      "source": [
        "y = train_df['medv'].values\n",
        "y.reshape(-1, 1)\n"
      ],
      "execution_count": 0,
      "outputs": [
        {
          "output_type": "execute_result",
          "data": {
            "text/plain": [
              "array([[24. ],\n",
              "       [21.6],\n",
              "       [33.4],\n",
              "       [36.2],\n",
              "       [22.9],\n",
              "       [15. ],\n",
              "       [18.9],\n",
              "       [21.7],\n",
              "       [20.4],\n",
              "       [18.2],\n",
              "       [19.9],\n",
              "       [23.1],\n",
              "       [20.2],\n",
              "       [13.6],\n",
              "       [19.6],\n",
              "       [15.2],\n",
              "       [14.5],\n",
              "       [14.8],\n",
              "       [12.7],\n",
              "       [14.5],\n",
              "       [13.5],\n",
              "       [24.7],\n",
              "       [30.8],\n",
              "       [34.9],\n",
              "       [25.3],\n",
              "       [24.7],\n",
              "       [21.2],\n",
              "       [19.3],\n",
              "       [20. ],\n",
              "       [16.6],\n",
              "       [19.4],\n",
              "       [19.7],\n",
              "       [20.5],\n",
              "       [23.4],\n",
              "       [18.9],\n",
              "       [35.4],\n",
              "       [24.7],\n",
              "       [31.6],\n",
              "       [23.3],\n",
              "       [18.7],\n",
              "       [16. ],\n",
              "       [25. ],\n",
              "       [33. ],\n",
              "       [23.5],\n",
              "       [19.4],\n",
              "       [22. ],\n",
              "       [17.4],\n",
              "       [24.2],\n",
              "       [22.8],\n",
              "       [23.4],\n",
              "       [24.1],\n",
              "       [21.4],\n",
              "       [20. ],\n",
              "       [20.8],\n",
              "       [28. ],\n",
              "       [23.9],\n",
              "       [22.9],\n",
              "       [23.9],\n",
              "       [26.6],\n",
              "       [22.5],\n",
              "       [22.2],\n",
              "       [23.6],\n",
              "       [28.7],\n",
              "       [22.6],\n",
              "       [25. ],\n",
              "       [20.6],\n",
              "       [21.4],\n",
              "       [27.5],\n",
              "       [26.5],\n",
              "       [18.6],\n",
              "       [19.3],\n",
              "       [19.5],\n",
              "       [20.4],\n",
              "       [19.8],\n",
              "       [19.4],\n",
              "       [22.8],\n",
              "       [18.5],\n",
              "       [21.2],\n",
              "       [19.2],\n",
              "       [20.4],\n",
              "       [19.3],\n",
              "       [22. ],\n",
              "       [20.3],\n",
              "       [20.5],\n",
              "       [17.3],\n",
              "       [18.8],\n",
              "       [15.7],\n",
              "       [16.2],\n",
              "       [18. ],\n",
              "       [19.6],\n",
              "       [18.4],\n",
              "       [15.6],\n",
              "       [17.4],\n",
              "       [17.1],\n",
              "       [13.3],\n",
              "       [17.8],\n",
              "       [14.4],\n",
              "       [13.4],\n",
              "       [13.8],\n",
              "       [14.6],\n",
              "       [17.8],\n",
              "       [15.4],\n",
              "       [21.5],\n",
              "       [19.4],\n",
              "       [17. ],\n",
              "       [13.1],\n",
              "       [24.3],\n",
              "       [23.3],\n",
              "       [27. ],\n",
              "       [50. ],\n",
              "       [50. ],\n",
              "       [22.7],\n",
              "       [25. ],\n",
              "       [50. ],\n",
              "       [23.8],\n",
              "       [22.3],\n",
              "       [17.4],\n",
              "       [19.1],\n",
              "       [23.1],\n",
              "       [23.6],\n",
              "       [22.6],\n",
              "       [29.4],\n",
              "       [23.2],\n",
              "       [24.6],\n",
              "       [29.9],\n",
              "       [37.2],\n",
              "       [39.8],\n",
              "       [36.2],\n",
              "       [37.9],\n",
              "       [32.5],\n",
              "       [50. ],\n",
              "       [32. ],\n",
              "       [34.9],\n",
              "       [37. ],\n",
              "       [30.5],\n",
              "       [36.4],\n",
              "       [31.1],\n",
              "       [29.1],\n",
              "       [30.3],\n",
              "       [32.9],\n",
              "       [24.1],\n",
              "       [48.5],\n",
              "       [50. ],\n",
              "       [22.6],\n",
              "       [24.4],\n",
              "       [24.4],\n",
              "       [19.3],\n",
              "       [28.1],\n",
              "       [23.7],\n",
              "       [23.3],\n",
              "       [21.7],\n",
              "       [27.5],\n",
              "       [30.1],\n",
              "       [44.8],\n",
              "       [50. ],\n",
              "       [37.6],\n",
              "       [31.6],\n",
              "       [31.5],\n",
              "       [24.3],\n",
              "       [41.7],\n",
              "       [48.3],\n",
              "       [29. ],\n",
              "       [24. ],\n",
              "       [25.1],\n",
              "       [22. ],\n",
              "       [22.2],\n",
              "       [23.7],\n",
              "       [17.6],\n",
              "       [24.3],\n",
              "       [24.5],\n",
              "       [26.2],\n",
              "       [24.4],\n",
              "       [24.8],\n",
              "       [42.8],\n",
              "       [33.8],\n",
              "       [43.1],\n",
              "       [48.8],\n",
              "       [31. ],\n",
              "       [36.5],\n",
              "       [22.8],\n",
              "       [30.7],\n",
              "       [43.5],\n",
              "       [25.2],\n",
              "       [24.4],\n",
              "       [35.2],\n",
              "       [32.4],\n",
              "       [35.1],\n",
              "       [35.4],\n",
              "       [46. ],\n",
              "       [50. ],\n",
              "       [32.2],\n",
              "       [22. ],\n",
              "       [20.1],\n",
              "       [22.3],\n",
              "       [28.5],\n",
              "       [27.9],\n",
              "       [23.9],\n",
              "       [27.1],\n",
              "       [20.3],\n",
              "       [22. ],\n",
              "       [26.4],\n",
              "       [33.1],\n",
              "       [36.1],\n",
              "       [28.4],\n",
              "       [33.4],\n",
              "       [22.8],\n",
              "       [20.3],\n",
              "       [16.1],\n",
              "       [22.1],\n",
              "       [19.4],\n",
              "       [16.2],\n",
              "       [17.8],\n",
              "       [19.8],\n",
              "       [23.1],\n",
              "       [23.8],\n",
              "       [25. ],\n",
              "       [24.6],\n",
              "       [22.2],\n",
              "       [19.3],\n",
              "       [19.8],\n",
              "       [22.2],\n",
              "       [20.7],\n",
              "       [19.5],\n",
              "       [20.6],\n",
              "       [19. ],\n",
              "       [18.7],\n",
              "       [32.7],\n",
              "       [16.5],\n",
              "       [23.9],\n",
              "       [31.2],\n",
              "       [23.1],\n",
              "       [24.5],\n",
              "       [26.6],\n",
              "       [18.6],\n",
              "       [17.8],\n",
              "       [21.7],\n",
              "       [22.7],\n",
              "       [22.6],\n",
              "       [25. ],\n",
              "       [20.8],\n",
              "       [27.5],\n",
              "       [21.9],\n",
              "       [23.1],\n",
              "       [50. ],\n",
              "       [50. ],\n",
              "       [50. ],\n",
              "       [50. ],\n",
              "       [13.8],\n",
              "       [13.8],\n",
              "       [13.9],\n",
              "       [13.3],\n",
              "       [11.3],\n",
              "       [12.3],\n",
              "       [ 8.8],\n",
              "       [10.5],\n",
              "       [ 7.4],\n",
              "       [11.5],\n",
              "       [23.2],\n",
              "       [ 9.7],\n",
              "       [12.7],\n",
              "       [12.5],\n",
              "       [ 5. ],\n",
              "       [ 5.6],\n",
              "       [ 7.2],\n",
              "       [ 8.3],\n",
              "       [27.9],\n",
              "       [17.2],\n",
              "       [16.3],\n",
              "       [ 7. ],\n",
              "       [ 7.2],\n",
              "       [10.4],\n",
              "       [ 8.8],\n",
              "       [ 8.4],\n",
              "       [11.7],\n",
              "       [ 8.3],\n",
              "       [10.9],\n",
              "       [11. ],\n",
              "       [ 9.5],\n",
              "       [14.1],\n",
              "       [16.1],\n",
              "       [14.3],\n",
              "       [11.7],\n",
              "       [ 8.7],\n",
              "       [12.8],\n",
              "       [10.5],\n",
              "       [17.1],\n",
              "       [18.4],\n",
              "       [15.4],\n",
              "       [10.8],\n",
              "       [11.8],\n",
              "       [12.6],\n",
              "       [14.1],\n",
              "       [15.2],\n",
              "       [16.1],\n",
              "       [17.8],\n",
              "       [14.1],\n",
              "       [13.5],\n",
              "       [14.9],\n",
              "       [20. ],\n",
              "       [16.4],\n",
              "       [17.7],\n",
              "       [19.5],\n",
              "       [20.2],\n",
              "       [21.4],\n",
              "       [19.9],\n",
              "       [19. ],\n",
              "       [19.1],\n",
              "       [19.1],\n",
              "       [20.1],\n",
              "       [19.6],\n",
              "       [23.2],\n",
              "       [13.8],\n",
              "       [16.7],\n",
              "       [12. ],\n",
              "       [14.6],\n",
              "       [21.4],\n",
              "       [23. ],\n",
              "       [23.7],\n",
              "       [21.8],\n",
              "       [20.6],\n",
              "       [19.1],\n",
              "       [20.6],\n",
              "       [15.2],\n",
              "       [ 8.1],\n",
              "       [13.6],\n",
              "       [20.1],\n",
              "       [21.8],\n",
              "       [18.3],\n",
              "       [17.5],\n",
              "       [22.4],\n",
              "       [20.6],\n",
              "       [23.9],\n",
              "       [11.9]])"
            ]
          },
          "metadata": {
            "tags": []
          },
          "execution_count": 55
        }
      ]
    },
    {
      "cell_type": "code",
      "metadata": {
        "id": "1Oaw5TqTgnw3",
        "colab_type": "code",
        "outputId": "a5ec6a09-08b6-459b-ba9b-d0440e74360b",
        "colab": {
          "base_uri": "https://localhost:8080/",
          "height": 243
        }
      },
      "source": [
        "x"
      ],
      "execution_count": 0,
      "outputs": [
        {
          "output_type": "execute_result",
          "data": {
            "text/plain": [
              "array([[1.0000e+00, 6.3200e-03, 1.8000e+01, ..., 1.5300e+01, 3.9690e+02,\n",
              "        4.9800e+00],\n",
              "       [1.0000e+00, 2.7310e-02, 0.0000e+00, ..., 1.7800e+01, 3.9690e+02,\n",
              "        9.1400e+00],\n",
              "       [1.0000e+00, 3.2370e-02, 0.0000e+00, ..., 1.8700e+01, 3.9463e+02,\n",
              "        2.9400e+00],\n",
              "       ...,\n",
              "       [1.0000e+00, 4.5270e-02, 0.0000e+00, ..., 2.1000e+01, 3.9690e+02,\n",
              "        9.0800e+00],\n",
              "       [1.0000e+00, 6.0760e-02, 0.0000e+00, ..., 2.1000e+01, 3.9690e+02,\n",
              "        5.6400e+00],\n",
              "       [1.0000e+00, 4.7410e-02, 0.0000e+00, ..., 2.1000e+01, 3.9690e+02,\n",
              "        7.8800e+00]])"
            ]
          },
          "metadata": {
            "tags": []
          },
          "execution_count": 56
        }
      ]
    },
    {
      "cell_type": "code",
      "metadata": {
        "id": "h773A6tsizda",
        "colab_type": "code",
        "colab": {}
      },
      "source": [
        "w = np.zeros([x.shape[1], 1])"
      ],
      "execution_count": 0,
      "outputs": []
    },
    {
      "cell_type": "code",
      "metadata": {
        "id": "utdXHQccjFR_",
        "colab_type": "code",
        "colab": {}
      },
      "source": [
        "def pred(x, w):\n",
        "    return np.dot(x, w)"
      ],
      "execution_count": 0,
      "outputs": []
    },
    {
      "cell_type": "code",
      "metadata": {
        "id": "CvyQ8vtWjNpz",
        "colab_type": "code",
        "colab": {}
      },
      "source": [
        "y_pred = pred(x, w)"
      ],
      "execution_count": 0,
      "outputs": []
    },
    {
      "cell_type": "code",
      "metadata": {
        "id": "okKw8SP3jWtO",
        "colab_type": "code",
        "colab": {}
      },
      "source": [
        "def loss(_w):\n",
        "    p = pred(x, _w)\n",
        "    e = y - p\n",
        "    se = np.power(e, 2)\n",
        "    rse = np.sqrt(np.sum(se))\n",
        "    rmse = rse / y.shape[0]\n",
        "    return rmse"
      ],
      "execution_count": 0,
      "outputs": []
    },
    {
      "cell_type": "code",
      "metadata": {
        "id": "YXvWYNNqjgUR",
        "colab_type": "code",
        "colab": {}
      },
      "source": [
        "l = loss(w)"
      ],
      "execution_count": 0,
      "outputs": []
    },
    {
      "cell_type": "code",
      "metadata": {
        "id": "pIPzVHwflIrI",
        "colab_type": "code",
        "outputId": "891d4020-c739-445f-8708-37327657eeb6",
        "colab": {
          "base_uri": "https://localhost:8080/",
          "height": 34
        }
      },
      "source": [
        "l"
      ],
      "execution_count": 0,
      "outputs": [
        {
          "output_type": "execute_result",
          "data": {
            "text/plain": [
              "24.54214001746051"
            ]
          },
          "metadata": {
            "tags": []
          },
          "execution_count": 62
        }
      ]
    },
    {
      "cell_type": "code",
      "metadata": {
        "id": "iE0bWyO9mt13",
        "colab_type": "code",
        "colab": {}
      },
      "source": [
        "se_cols = ['chas', 'nox', 'rm', 'dis', 'ptratio', 'lstat']\n",
        "#predictors = train_df.drop('_mv', axis=1)\n",
        "predictors = train_df[['_lstat']]\n",
        "target = train_df['_mv']\n",
        "print(predictors.shape)\n",
        "print(target.shape)"
      ],
      "execution_count": 0,
      "outputs": []
    },
    {
      "cell_type": "code",
      "metadata": {
        "id": "m0DJSieNSmQL",
        "colab_type": "code",
        "colab": {}
      },
      "source": [
        ""
      ],
      "execution_count": 0,
      "outputs": []
    },
    {
      "cell_type": "markdown",
      "metadata": {
        "id": "TnEP9qaGE2Ng",
        "colab_type": "text"
      },
      "source": [
        "# Ex 1 Data Structures\n",
        ".. "
      ]
    },
    {
      "cell_type": "code",
      "metadata": {
        "id": "q4iDraUJ5Egh",
        "colab_type": "code",
        "colab": {}
      },
      "source": [
        ""
      ],
      "execution_count": 0,
      "outputs": []
    },
    {
      "cell_type": "code",
      "metadata": {
        "id": "j3t3-SPIuRR1",
        "colab_type": "code",
        "colab": {}
      },
      "source": [
        "simple_List=[]"
      ],
      "execution_count": 0,
      "outputs": []
    },
    {
      "cell_type": "code",
      "metadata": {
        "id": "scUH7gqmuo3O",
        "colab_type": "code",
        "colab": {}
      },
      "source": [
        "simple_List=[10, 11, 11, 4]"
      ],
      "execution_count": 0,
      "outputs": []
    },
    {
      "cell_type": "code",
      "metadata": {
        "id": "qLoimo4NxS-N",
        "colab_type": "code",
        "outputId": "b3e54af9-36f1-4178-d00a-d34befbc0896",
        "colab": {
          "base_uri": "https://localhost:8080/",
          "height": 34
        }
      },
      "source": [
        "print(simple_List[0])"
      ],
      "execution_count": 0,
      "outputs": [
        {
          "output_type": "stream",
          "text": [
            "10\n"
          ],
          "name": "stdout"
        }
      ]
    },
    {
      "cell_type": "code",
      "metadata": {
        "id": "EJeNdM7F17Pv",
        "colab_type": "code",
        "outputId": "5c52cd7c-8016-4ec3-9698-23e5130f9731",
        "colab": {
          "base_uri": "https://localhost:8080/",
          "height": 34
        }
      },
      "source": [
        "#adding number of empty seats\n",
        "simple_List[0] + 1"
      ],
      "execution_count": 0,
      "outputs": [
        {
          "output_type": "execute_result",
          "data": {
            "text/plain": [
              "11"
            ]
          },
          "metadata": {
            "tags": []
          },
          "execution_count": 29
        }
      ]
    },
    {
      "cell_type": "code",
      "metadata": {
        "id": "HllON91Y3eJo",
        "colab_type": "code",
        "colab": {}
      },
      "source": [
        "#adding number of empty seats\n",
        "simple_List[1] += 1\n"
      ],
      "execution_count": 0,
      "outputs": []
    },
    {
      "cell_type": "code",
      "metadata": {
        "id": "ttB1Fak232Yn",
        "colab_type": "code",
        "outputId": "f172dc43-4a08-4fd3-fdda-7b7cadcf0905",
        "colab": {
          "base_uri": "https://localhost:8080/",
          "height": 34
        }
      },
      "source": [
        "#adding number of empty seats\n",
        "simple_List[2] +1"
      ],
      "execution_count": 0,
      "outputs": [
        {
          "output_type": "execute_result",
          "data": {
            "text/plain": [
              "12"
            ]
          },
          "metadata": {
            "tags": []
          },
          "execution_count": 31
        }
      ]
    },
    {
      "cell_type": "code",
      "metadata": {
        "id": "i0cHowD14Czm",
        "colab_type": "code",
        "outputId": "0d8a3f1a-fbee-4c71-9ecb-e2558decb972",
        "colab": {
          "base_uri": "https://localhost:8080/",
          "height": 34
        }
      },
      "source": [
        "#adding number of empty seats\n",
        "simple_List[3] + 5"
      ],
      "execution_count": 0,
      "outputs": [
        {
          "output_type": "execute_result",
          "data": {
            "text/plain": [
              "9"
            ]
          },
          "metadata": {
            "tags": []
          },
          "execution_count": 32
        }
      ]
    },
    {
      "cell_type": "code",
      "metadata": {
        "id": "VJMXOUk68Gqb",
        "colab_type": "code",
        "outputId": "77416a95-e96d-4f18-c1ab-c944ee517782",
        "colab": {
          "base_uri": "https://localhost:8080/",
          "height": 86
        }
      },
      "source": [
        "list_roll1=[4, 6]\n",
        "list_roll2=[4, 5]\n",
        "list_roll3=[3, 9]\n",
        "list_roll4=[1, 3]\n",
        "print(list_roll1)\n",
        "print(list_roll2)\n",
        "print(list_roll2)\n",
        "print(list_roll4)"
      ],
      "execution_count": 0,
      "outputs": [
        {
          "output_type": "stream",
          "text": [
            "[4, 6]\n",
            "[4, 5]\n",
            "[4, 5]\n",
            "[1, 3]\n"
          ],
          "name": "stdout"
        }
      ]
    },
    {
      "cell_type": "code",
      "metadata": {
        "id": "K5SQrPUh9hq4",
        "colab_type": "code",
        "outputId": "549d6f4a-002a-4e6d-d5c6-1719860349dd",
        "colab": {
          "base_uri": "https://localhost:8080/",
          "height": 34
        }
      },
      "source": [
        "#nested list\n",
        "nested_list=[list_roll1, list_roll2, list_roll3, list_roll4]\n",
        "print(nested_list)"
      ],
      "execution_count": 0,
      "outputs": [
        {
          "output_type": "stream",
          "text": [
            "[[4, 6], [4, 5], [3, 9], [1, 3]]\n"
          ],
          "name": "stdout"
        }
      ]
    },
    {
      "cell_type": "code",
      "metadata": {
        "id": "Tp_X1Wt_PFtQ",
        "colab_type": "code",
        "colab": {}
      },
      "source": [
        "flat_list=[]"
      ],
      "execution_count": 0,
      "outputs": []
    },
    {
      "cell_type": "code",
      "metadata": {
        "id": "O-_Xwd4CPLtV",
        "colab_type": "code",
        "outputId": "ff4f84bb-7143-47be-e99e-467aee71304d",
        "colab": {
          "base_uri": "https://localhost:8080/",
          "height": 34
        }
      },
      "source": [
        "for i in nested_list:\n",
        "  for item in i:\n",
        "    flat_list.append(item)\n",
        "print(flat_list)\n"
      ],
      "execution_count": 0,
      "outputs": [
        {
          "output_type": "stream",
          "text": [
            "[4, 6, 4, 5, 3, 9, 1, 3]\n"
          ],
          "name": "stdout"
        }
      ]
    },
    {
      "cell_type": "code",
      "metadata": {
        "id": "mWqkLQ11Q--k",
        "colab_type": "code",
        "colab": {}
      },
      "source": [
        ""
      ],
      "execution_count": 0,
      "outputs": []
    },
    {
      "cell_type": "code",
      "metadata": {
        "id": "FKDOPWcnREjO",
        "colab_type": "code",
        "colab": {}
      },
      "source": [
        ""
      ],
      "execution_count": 0,
      "outputs": []
    },
    {
      "cell_type": "code",
      "metadata": {
        "id": "qWfgg8F_-Ewy",
        "colab_type": "code",
        "outputId": "82b85362-5c85-4f52-d7e4-779eaaa33203",
        "colab": {
          "base_uri": "https://localhost:8080/",
          "height": 34
        }
      },
      "source": [
        "#adding two simple lists\n",
        "\n",
        "sum(simple_List[0:3]) + sum(simple_List[1:])"
      ],
      "execution_count": 0,
      "outputs": [
        {
          "output_type": "execute_result",
          "data": {
            "text/plain": [
              "58"
            ]
          },
          "metadata": {
            "tags": []
          },
          "execution_count": 49
        }
      ]
    },
    {
      "cell_type": "code",
      "metadata": {
        "id": "HvMR1i9fBS1U",
        "colab_type": "code",
        "outputId": "24d22d8c-aeb2-42d4-c2b3-42224f5857d3",
        "colab": {
          "base_uri": "https://localhost:8080/",
          "height": 34
        }
      },
      "source": [
        ""
      ],
      "execution_count": 0,
      "outputs": [
        {
          "output_type": "execute_result",
          "data": {
            "text/plain": [
              "26"
            ]
          },
          "metadata": {
            "tags": []
          },
          "execution_count": 48
        }
      ]
    },
    {
      "cell_type": "code",
      "metadata": {
        "id": "hH8XEy-3ADDZ",
        "colab_type": "code",
        "outputId": "d86f4e5a-957e-4c1a-b18b-2559298d7e62",
        "colab": {
          "base_uri": "https://localhost:8080/",
          "height": 34
        }
      },
      "source": [
        "#adding the first 3rolls to the last 3rolls\n",
        "sum(simple_List[0:3] + simple_List[1:5])"
      ],
      "execution_count": 0,
      "outputs": [
        {
          "output_type": "execute_result",
          "data": {
            "text/plain": [
              "58"
            ]
          },
          "metadata": {
            "tags": []
          },
          "execution_count": 44
        }
      ]
    },
    {
      "cell_type": "code",
      "metadata": {
        "id": "hBbmmu6fC7sR",
        "colab_type": "code",
        "outputId": "b58f5f9f-6857-4fec-86aa-51c734690943",
        "colab": {
          "base_uri": "https://localhost:8080/",
          "height": 34
        }
      },
      "source": [
        "simple_List[0:3]"
      ],
      "execution_count": 0,
      "outputs": [
        {
          "output_type": "execute_result",
          "data": {
            "text/plain": [
              "[10, 11, 11]"
            ]
          },
          "metadata": {
            "tags": []
          },
          "execution_count": 52
        }
      ]
    },
    {
      "cell_type": "code",
      "metadata": {
        "id": "POiE108NDPKe",
        "colab_type": "code",
        "outputId": "a3519621-d53c-4bec-9a4e-7b9d4c82dde5",
        "colab": {
          "base_uri": "https://localhost:8080/",
          "height": 34
        }
      },
      "source": [
        "simple_List[1:]"
      ],
      "execution_count": 0,
      "outputs": [
        {
          "output_type": "execute_result",
          "data": {
            "text/plain": [
              "[11, 11, 4]"
            ]
          },
          "metadata": {
            "tags": []
          },
          "execution_count": 53
        }
      ]
    },
    {
      "cell_type": "code",
      "metadata": {
        "id": "cVgyK7qCDXNH",
        "colab_type": "code",
        "outputId": "94c7c6ad-641e-4e7a-898f-de7b4ef232a7",
        "colab": {
          "base_uri": "https://localhost:8080/",
          "height": 34
        }
      },
      "source": [
        "simple_List[:3] + simple_List[-3:]"
      ],
      "execution_count": 0,
      "outputs": [
        {
          "output_type": "execute_result",
          "data": {
            "text/plain": [
              "[10, 12, 11, 12, 11, 4]"
            ]
          },
          "metadata": {
            "tags": []
          },
          "execution_count": 81
        }
      ]
    },
    {
      "cell_type": "code",
      "metadata": {
        "id": "Hflgh0aNBJhx",
        "colab_type": "code",
        "outputId": "9da9caf0-f294-483f-b9bc-ed6c37b2688c",
        "colab": {
          "base_uri": "https://localhost:8080/",
          "height": 34
        }
      },
      "source": [
        "simple_List[0:3]"
      ],
      "execution_count": 0,
      "outputs": [
        {
          "output_type": "execute_result",
          "data": {
            "text/plain": [
              "[10, 11, 11]"
            ]
          },
          "metadata": {
            "tags": []
          },
          "execution_count": 46
        }
      ]
    },
    {
      "cell_type": "code",
      "metadata": {
        "id": "8hezaUto64v_",
        "colab_type": "code",
        "outputId": "4dd6034a-a7c3-4a1a-b4f2-5a806b8f2d9f",
        "colab": {
          "base_uri": "https://localhost:8080/",
          "height": 34
        }
      },
      "source": [
        "#reverse\n",
        "simple_List[::-1]"
      ],
      "execution_count": 0,
      "outputs": [
        {
          "output_type": "execute_result",
          "data": {
            "text/plain": [
              "[4, 11, 11, 10]"
            ]
          },
          "metadata": {
            "tags": []
          },
          "execution_count": 56
        }
      ]
    },
    {
      "cell_type": "code",
      "metadata": {
        "id": "wWaRyN7t5ulT",
        "colab_type": "code",
        "colab": {}
      },
      "source": [
        "simple_tuple=(10, 11, 11, 4)"
      ],
      "execution_count": 0,
      "outputs": []
    },
    {
      "cell_type": "code",
      "metadata": {
        "id": "egKnAKeM6Wmj",
        "colab_type": "code",
        "outputId": "4c06b3d9-e311-4b8f-8547-6aa30245520d",
        "colab": {
          "base_uri": "https://localhost:8080/",
          "height": 167
        }
      },
      "source": [
        "#cant add to tuple\n",
        "simple_tuple[0]+=1 \n"
      ],
      "execution_count": 0,
      "outputs": [
        {
          "output_type": "error",
          "ename": "TypeError",
          "evalue": "ignored",
          "traceback": [
            "\u001b[0;31m---------------------------------------------------------------------------\u001b[0m",
            "\u001b[0;31mTypeError\u001b[0m                                 Traceback (most recent call last)",
            "\u001b[0;32m<ipython-input-88-e37b281e38a6>\u001b[0m in \u001b[0;36m<module>\u001b[0;34m()\u001b[0m\n\u001b[0;32m----> 1\u001b[0;31m \u001b[0msimple_tuple\u001b[0m\u001b[0;34m[\u001b[0m\u001b[0;36m0\u001b[0m\u001b[0;34m]\u001b[0m\u001b[0;34m+=\u001b[0m\u001b[0;36m1\u001b[0m\u001b[0;34m\u001b[0m\u001b[0;34m\u001b[0m\u001b[0m\n\u001b[0m",
            "\u001b[0;31mTypeError\u001b[0m: 'tuple' object does not support item assignment"
          ]
        }
      ]
    },
    {
      "cell_type": "code",
      "metadata": {
        "id": "ua8OUoa-75VH",
        "colab_type": "code",
        "outputId": "bb71ea9e-9c76-424e-b616-f4c35f77b1fd",
        "colab": {
          "base_uri": "https://localhost:8080/",
          "height": 34
        }
      },
      "source": [
        "simple_tuple=(simple_List)\n",
        "print(simple_tuple)"
      ],
      "execution_count": 0,
      "outputs": [
        {
          "output_type": "stream",
          "text": [
            "[10, 11, 11, 4]\n"
          ],
          "name": "stdout"
        }
      ]
    },
    {
      "cell_type": "code",
      "metadata": {
        "id": "UZlDKe6IFVC-",
        "colab_type": "code",
        "colab": {}
      },
      "source": [
        "nested_tuple=(nested_list)"
      ],
      "execution_count": 0,
      "outputs": []
    },
    {
      "cell_type": "code",
      "metadata": {
        "id": "7k0EExNI6kR9",
        "colab_type": "code",
        "outputId": "425a7910-4059-4050-a117-2588c962ebd5",
        "colab": {
          "base_uri": "https://localhost:8080/",
          "height": 34
        }
      },
      "source": [
        "print(nested_tuple)"
      ],
      "execution_count": 0,
      "outputs": [
        {
          "output_type": "stream",
          "text": [
            "[[4, 6], [4, 5], [3, 9], [1, 3]]\n"
          ],
          "name": "stdout"
        }
      ]
    },
    {
      "cell_type": "code",
      "metadata": {
        "id": "XdiatK2FHRwL",
        "colab_type": "code",
        "colab": {}
      },
      "source": [
        "#creating a dictionary\n",
        "simple_dict= {}"
      ],
      "execution_count": 0,
      "outputs": []
    },
    {
      "cell_type": "code",
      "metadata": {
        "id": "7DE8NWMO-1gZ",
        "colab_type": "code",
        "outputId": "5154f702-99e8-495c-fdc6-06b43fa4c8ad",
        "colab": {
          "base_uri": "https://localhost:8080/",
          "height": 34
        }
      },
      "source": [
        "#Boot-Camp Day 3 -------NUMPY / PANDAS\n",
        "\n",
        "\n",
        "\n",
        "import numpy as np\n",
        "\n",
        "row_1=np.array([1, 3, 3, 2]) #creating row1\n",
        "\n",
        "row_1\n"
      ],
      "execution_count": 0,
      "outputs": [
        {
          "output_type": "execute_result",
          "data": {
            "text/plain": [
              "array([1, 3, 3, 2])"
            ]
          },
          "metadata": {
            "tags": []
          },
          "execution_count": 3
        }
      ]
    },
    {
      "cell_type": "code",
      "metadata": {
        "id": "eT3xItC6BJRm",
        "colab_type": "code",
        "outputId": "ad9a0f1d-3022-4fb4-9b90-cf982597440b",
        "colab": {
          "base_uri": "https://localhost:8080/",
          "height": 34
        }
      },
      "source": [
        "row_2=np.array([3, 3, 3, 3]) #creating row\n",
        "row_2"
      ],
      "execution_count": 0,
      "outputs": [
        {
          "output_type": "execute_result",
          "data": {
            "text/plain": [
              "array([3, 3, 3, 3])"
            ]
          },
          "metadata": {
            "tags": []
          },
          "execution_count": 4
        }
      ]
    },
    {
      "cell_type": "code",
      "metadata": {
        "id": "E9xM_3kMCo0r",
        "colab_type": "code",
        "outputId": "150e8c19-25c2-4118-dc91-f6bf26f9a50a",
        "colab": {
          "base_uri": "https://localhost:8080/",
          "height": 34
        }
      },
      "source": [
        "row_3=np.array([3, 3, 3, 2]) #creating row3\n",
        "row_3"
      ],
      "execution_count": 0,
      "outputs": [
        {
          "output_type": "execute_result",
          "data": {
            "text/plain": [
              "array([3, 3, 3, 2])"
            ]
          },
          "metadata": {
            "tags": []
          },
          "execution_count": 5
        }
      ]
    },
    {
      "cell_type": "code",
      "metadata": {
        "id": "lUUMkj1mDMW0",
        "colab_type": "code",
        "outputId": "194ee47b-6981-40ef-f476-06041306640d",
        "colab": {
          "base_uri": "https://localhost:8080/",
          "height": 34
        }
      },
      "source": [
        "row_4=np.array([1, 2, 3, 1]) #creating row4\n",
        "row_4"
      ],
      "execution_count": 0,
      "outputs": [
        {
          "output_type": "execute_result",
          "data": {
            "text/plain": [
              "array([1, 2, 3, 1])"
            ]
          },
          "metadata": {
            "tags": []
          },
          "execution_count": 6
        }
      ]
    },
    {
      "cell_type": "code",
      "metadata": {
        "id": "DrHKWT2HDlzg",
        "colab_type": "code",
        "colab": {}
      },
      "source": [
        "row_all=np.vstack((row_1, row_2, row_3, row_4)) #stacking all rows"
      ],
      "execution_count": 0,
      "outputs": []
    },
    {
      "cell_type": "code",
      "metadata": {
        "id": "x8Xk9K4eHwIK",
        "colab_type": "code",
        "outputId": "5560a617-7583-49d3-fcff-07d8882505f0",
        "colab": {
          "base_uri": "https://localhost:8080/",
          "height": 86
        }
      },
      "source": [
        "\n",
        "row_all"
      ],
      "execution_count": 0,
      "outputs": [
        {
          "output_type": "execute_result",
          "data": {
            "text/plain": [
              "array([[1, 3, 3, 2],\n",
              "       [3, 3, 3, 3],\n",
              "       [3, 3, 3, 2],\n",
              "       [1, 2, 3, 1]])"
            ]
          },
          "metadata": {
            "tags": []
          },
          "execution_count": 8
        }
      ]
    },
    {
      "cell_type": "code",
      "metadata": {
        "id": "ghpLfyBNH0WX",
        "colab_type": "code",
        "outputId": "5939dca3-01d9-4f54-904c-da7a90c623c6",
        "colab": {
          "base_uri": "https://localhost:8080/",
          "height": 34
        }
      },
      "source": [
        "row_mean=row_all.mean(axis=1) #finding the mean of rows\n",
        "\n",
        "row_mean"
      ],
      "execution_count": 0,
      "outputs": [
        {
          "output_type": "execute_result",
          "data": {
            "text/plain": [
              "array([2.25, 3.  , 2.75, 1.75])"
            ]
          },
          "metadata": {
            "tags": []
          },
          "execution_count": 9
        }
      ]
    },
    {
      "cell_type": "code",
      "metadata": {
        "id": "aVIwUgKeJwHh",
        "colab_type": "code",
        "outputId": "d75fcfda-6bfd-42a0-d6b0-10a432de981b",
        "colab": {
          "base_uri": "https://localhost:8080/",
          "height": 34
        }
      },
      "source": [
        "row_std=row_all.std(axis=1) #finding the Standard deviation of all rows\n",
        "\n",
        "row_std"
      ],
      "execution_count": 0,
      "outputs": [
        {
          "output_type": "execute_result",
          "data": {
            "text/plain": [
              "array([0.8291562, 0.       , 0.4330127, 0.8291562])"
            ]
          },
          "metadata": {
            "tags": []
          },
          "execution_count": 10
        }
      ]
    },
    {
      "cell_type": "code",
      "metadata": {
        "id": "o-MqqE7tJ5_J",
        "colab_type": "code",
        "colab": {}
      },
      "source": [
        "row_samples = np.random.normal(row_mean, row_std, (4, 4)) #generating a 2D sample row"
      ],
      "execution_count": 0,
      "outputs": []
    },
    {
      "cell_type": "code",
      "metadata": {
        "id": "5dePV9WXOR3g",
        "colab_type": "code",
        "outputId": "805c314f-c4f8-44bb-8026-a42534c16f2f",
        "colab": {
          "base_uri": "https://localhost:8080/",
          "height": 86
        }
      },
      "source": [
        "row_samples\n"
      ],
      "execution_count": 0,
      "outputs": [
        {
          "output_type": "execute_result",
          "data": {
            "text/plain": [
              "array([[2.6739328 , 3.        , 2.95685613, 1.62616648],\n",
              "       [1.5241798 , 3.        , 1.76901462, 1.27979262],\n",
              "       [3.46369385, 3.        , 3.27408109, 2.82385147],\n",
              "       [1.84193595, 3.        , 2.61100311, 0.61502248]])"
            ]
          },
          "metadata": {
            "tags": []
          },
          "execution_count": 12
        }
      ]
    },
    {
      "cell_type": "code",
      "metadata": {
        "id": "J3ZulCtOOX3E",
        "colab_type": "code",
        "outputId": "49462c61-479c-4626-d8cd-6a8b04edd529",
        "colab": {
          "base_uri": "https://localhost:8080/",
          "height": 34
        }
      },
      "source": [
        "min_row_samples = row_samples.min(axis=0) #finding the mean\n",
        "\n",
        "min_row_samples\n"
      ],
      "execution_count": 0,
      "outputs": [
        {
          "output_type": "execute_result",
          "data": {
            "text/plain": [
              "array([1.5241798 , 3.        , 1.76901462, 0.61502248])"
            ]
          },
          "metadata": {
            "tags": []
          },
          "execution_count": 13
        }
      ]
    },
    {
      "cell_type": "code",
      "metadata": {
        "id": "SmaEyML-U5A-",
        "colab_type": "code",
        "outputId": "f24ab2c5-1293-4b70-a66f-09ea59cfc354",
        "colab": {
          "base_uri": "https://localhost:8080/",
          "height": 34
        }
      },
      "source": [
        "max_row_samples = row_samples.max(axis=0)  #finding the Max\n",
        "max_row_samples"
      ],
      "execution_count": 0,
      "outputs": [
        {
          "output_type": "execute_result",
          "data": {
            "text/plain": [
              "array([3.46369385, 3.        , 3.27408109, 2.82385147])"
            ]
          },
          "metadata": {
            "tags": []
          },
          "execution_count": 14
        }
      ]
    },
    {
      "cell_type": "code",
      "metadata": {
        "id": "8SVW6ShRTy0L",
        "colab_type": "code",
        "outputId": "53638581-59e6-4814-c104-f445c28f6839",
        "colab": {
          "base_uri": "https://localhost:8080/",
          "height": 86
        }
      },
      "source": [
        "rounded_sample=np.round(row_samples) #rounding the row_samples\n",
        "rounded_sample"
      ],
      "execution_count": 0,
      "outputs": [
        {
          "output_type": "execute_result",
          "data": {
            "text/plain": [
              "array([[3., 3., 3., 2.],\n",
              "       [2., 3., 2., 1.],\n",
              "       [3., 3., 3., 3.],\n",
              "       [2., 3., 3., 1.]])"
            ]
          },
          "metadata": {
            "tags": []
          },
          "execution_count": 15
        }
      ]
    },
    {
      "cell_type": "code",
      "metadata": {
        "id": "L_1GjmBsXTOW",
        "colab_type": "code",
        "outputId": "fe02a67f-14c1-441f-a056-cc748bf2a69d",
        "colab": {
          "base_uri": "https://localhost:8080/",
          "height": 86
        }
      },
      "source": [
        "\n",
        "row_augmented = np.concatenate((row_all, rounded_sample),axis=1) #concatenation\n",
        "row_augmented"
      ],
      "execution_count": 0,
      "outputs": [
        {
          "output_type": "execute_result",
          "data": {
            "text/plain": [
              "array([[1., 3., 3., 2., 3., 3., 3., 2.],\n",
              "       [3., 3., 3., 3., 2., 3., 2., 1.],\n",
              "       [3., 3., 3., 2., 3., 3., 3., 3.],\n",
              "       [1., 2., 3., 1., 2., 3., 3., 1.]])"
            ]
          },
          "metadata": {
            "tags": []
          },
          "execution_count": 16
        }
      ]
    },
    {
      "cell_type": "code",
      "metadata": {
        "id": "9yQzo_9mYe85",
        "colab_type": "code",
        "outputId": "4c3b6d2b-7266-4796-da8c-d4ff3fd9e5be",
        "colab": {
          "base_uri": "https://localhost:8080/",
          "height": 52
        }
      },
      "source": [
        "import matplotlib.pyplot as plt\n",
        "\n",
        "row_aug_flat=row_augmented.flatten()   #flatten\n",
        "\n",
        "row_aug_flat"
      ],
      "execution_count": 0,
      "outputs": [
        {
          "output_type": "execute_result",
          "data": {
            "text/plain": [
              "array([1., 3., 3., 2., 3., 3., 3., 2., 3., 3., 3., 3., 2., 3., 2., 1., 3.,\n",
              "       3., 3., 2., 3., 3., 3., 3., 1., 2., 3., 1., 2., 3., 3., 1.])"
            ]
          },
          "metadata": {
            "tags": []
          },
          "execution_count": 17
        }
      ]
    },
    {
      "cell_type": "code",
      "metadata": {
        "id": "C-4i3ARrZj33",
        "colab_type": "code",
        "outputId": "d4379663-ec2b-408e-bc04-318c231b2a41",
        "colab": {
          "base_uri": "https://localhost:8080/",
          "height": 321
        }
      },
      "source": [
        "plt.hist(row_aug_flat)"
      ],
      "execution_count": 0,
      "outputs": [
        {
          "output_type": "execute_result",
          "data": {
            "text/plain": [
              "(array([ 5.,  0.,  0.,  0.,  0.,  7.,  0.,  0.,  0., 20.]),\n",
              " array([1. , 1.2, 1.4, 1.6, 1.8, 2. , 2.2, 2.4, 2.6, 2.8, 3. ]),\n",
              " <a list of 10 Patch objects>)"
            ]
          },
          "metadata": {
            "tags": []
          },
          "execution_count": 18
        },
        {
          "output_type": "display_data",
          "data": {
            "image/png": "[encoded data removed]",
            "text/plain": [
              "<Figure size 432x288 with 1 Axes>"
            ]
          },
          "metadata": {
            "tags": []
          }
        }
      ]
    },
    {
      "cell_type": "markdown",
      "metadata": {
        "id": "II_lY4ZKERpY",
        "colab_type": "text"
      },
      "source": [
        ""
      ]
    },
    {
      "cell_type": "code",
      "metadata": {
        "id": "79-mlUmCc1XJ",
        "colab_type": "code",
        "colab": {}
      },
      "source": [
        "import pandas as pd\n"
      ],
      "execution_count": 0,
      "outputs": []
    },
    {
      "cell_type": "code",
      "metadata": {
        "id": "_-fxwqzxdTde",
        "colab_type": "code",
        "outputId": "173f8f98-3832-416c-f44a-71085885c779",
        "colab": {
          "base_uri": "https://localhost:8080/",
          "height": 86
        }
      },
      "source": [
        "row_dict = {\"row_1\": row_augmented[0], \"row_2\": row_augmented[1], \"row_3\": row_augmented[2], \"row_4\": row_augmented[3]}\n",
        "row_dict"
      ],
      "execution_count": 0,
      "outputs": [
        {
          "output_type": "execute_result",
          "data": {
            "text/plain": [
              "{'row_1': array([1., 3., 3., 2., 3., 3., 3., 2.]),\n",
              " 'row_2': array([3., 3., 3., 3., 2., 3., 2., 1.]),\n",
              " 'row_3': array([3., 3., 3., 2., 3., 3., 3., 3.]),\n",
              " 'row_4': array([1., 2., 3., 1., 2., 3., 3., 1.])}"
            ]
          },
          "metadata": {
            "tags": []
          },
          "execution_count": 20
        }
      ]
    },
    {
      "cell_type": "code",
      "metadata": {
        "id": "nnbhzeBeiYXR",
        "colab_type": "code",
        "outputId": "bebfb88a-5ce7-4af9-9a13-346389245347",
        "colab": {
          "base_uri": "https://localhost:8080/",
          "height": 300
        }
      },
      "source": [
        "row_aug_data=pd.DataFrame(row_dict)\n",
        "row_aug_data"
      ],
      "execution_count": 0,
      "outputs": [
        {
          "output_type": "execute_result",
          "data": {
            "text/html": [
              "<div>\n",
              "<style scoped>\n",
              "    .dataframe tbody tr th:only-of-type {\n",
              "        vertical-align: middle;\n",
              "    }\n",
              "\n",
              "    .dataframe tbody tr th {\n",
              "        vertical-align: top;\n",
              "    }\n",
              "\n",
              "    .dataframe thead th {\n",
              "        text-align: right;\n",
              "    }\n",
              "</style>\n",
              "<table border=\"1\" class=\"dataframe\">\n",
              "  <thead>\n",
              "    <tr style=\"text-align: right;\">\n",
              "      <th></th>\n",
              "      <th>row_1</th>\n",
              "      <th>row_2</th>\n",
              "      <th>row_3</th>\n",
              "      <th>row_4</th>\n",
              "    </tr>\n",
              "  </thead>\n",
              "  <tbody>\n",
              "    <tr>\n",
              "      <th>0</th>\n",
              "      <td>1.0</td>\n",
              "      <td>3.0</td>\n",
              "      <td>3.0</td>\n",
              "      <td>1.0</td>\n",
              "    </tr>\n",
              "    <tr>\n",
              "      <th>1</th>\n",
              "      <td>3.0</td>\n",
              "      <td>3.0</td>\n",
              "      <td>3.0</td>\n",
              "      <td>2.0</td>\n",
              "    </tr>\n",
              "    <tr>\n",
              "      <th>2</th>\n",
              "      <td>3.0</td>\n",
              "      <td>3.0</td>\n",
              "      <td>3.0</td>\n",
              "      <td>3.0</td>\n",
              "    </tr>\n",
              "    <tr>\n",
              "      <th>3</th>\n",
              "      <td>2.0</td>\n",
              "      <td>3.0</td>\n",
              "      <td>2.0</td>\n",
              "      <td>1.0</td>\n",
              "    </tr>\n",
              "    <tr>\n",
              "      <th>4</th>\n",
              "      <td>3.0</td>\n",
              "      <td>2.0</td>\n",
              "      <td>3.0</td>\n",
              "      <td>2.0</td>\n",
              "    </tr>\n",
              "    <tr>\n",
              "      <th>5</th>\n",
              "      <td>3.0</td>\n",
              "      <td>3.0</td>\n",
              "      <td>3.0</td>\n",
              "      <td>3.0</td>\n",
              "    </tr>\n",
              "    <tr>\n",
              "      <th>6</th>\n",
              "      <td>3.0</td>\n",
              "      <td>2.0</td>\n",
              "      <td>3.0</td>\n",
              "      <td>3.0</td>\n",
              "    </tr>\n",
              "    <tr>\n",
              "      <th>7</th>\n",
              "      <td>2.0</td>\n",
              "      <td>1.0</td>\n",
              "      <td>3.0</td>\n",
              "      <td>1.0</td>\n",
              "    </tr>\n",
              "  </tbody>\n",
              "</table>\n",
              "</div>"
            ],
            "text/plain": [
              "   row_1  row_2  row_3  row_4\n",
              "0    1.0    3.0    3.0    1.0\n",
              "1    3.0    3.0    3.0    2.0\n",
              "2    3.0    3.0    3.0    3.0\n",
              "3    2.0    3.0    2.0    1.0\n",
              "4    3.0    2.0    3.0    2.0\n",
              "5    3.0    3.0    3.0    3.0\n",
              "6    3.0    2.0    3.0    3.0\n",
              "7    2.0    1.0    3.0    1.0"
            ]
          },
          "metadata": {
            "tags": []
          },
          "execution_count": 21
        }
      ]
    },
    {
      "cell_type": "code",
      "metadata": {
        "id": "MCnlXOssjihc",
        "colab_type": "code",
        "outputId": "a8ac0339-cab4-4934-8e78-d52075204bfd",
        "colab": {
          "base_uri": "https://localhost:8080/",
          "height": 173
        }
      },
      "source": [
        "row_aug_data_Mean=row_aug_data.mean(axis=1)\n",
        "row_aug_data_Mean\n"
      ],
      "execution_count": 0,
      "outputs": [
        {
          "output_type": "execute_result",
          "data": {
            "text/plain": [
              "0    2.00\n",
              "1    2.75\n",
              "2    3.00\n",
              "3    2.00\n",
              "4    2.50\n",
              "5    3.00\n",
              "6    2.75\n",
              "7    1.75\n",
              "dtype: float64"
            ]
          },
          "metadata": {
            "tags": []
          },
          "execution_count": 22
        }
      ]
    },
    {
      "cell_type": "code",
      "metadata": {
        "id": "7fjOj-k0lQGR",
        "colab_type": "code",
        "outputId": "00425158-02c5-4986-e2d3-5f30f4761b61",
        "colab": {
          "base_uri": "https://localhost:8080/",
          "height": 173
        }
      },
      "source": [
        "row_aug_data_Median=row_aug_data.median(axis=1)\n",
        "row_aug_data_Median"
      ],
      "execution_count": 0,
      "outputs": [
        {
          "output_type": "execute_result",
          "data": {
            "text/plain": [
              "0    2.0\n",
              "1    3.0\n",
              "2    3.0\n",
              "3    2.0\n",
              "4    2.5\n",
              "5    3.0\n",
              "6    3.0\n",
              "7    1.5\n",
              "dtype: float64"
            ]
          },
          "metadata": {
            "tags": []
          },
          "execution_count": 23
        }
      ]
    },
    {
      "cell_type": "code",
      "metadata": {
        "id": "p5tfLu1yl8lN",
        "colab_type": "code",
        "outputId": "a320df9f-32d7-4804-cb91-117a183d159d",
        "colab": {
          "base_uri": "https://localhost:8080/",
          "height": 300
        }
      },
      "source": [
        "row_aug_data_Mode=row_aug_data.mode(axis=1)\n",
        "row_aug_data_Mode"
      ],
      "execution_count": 0,
      "outputs": [
        {
          "output_type": "execute_result",
          "data": {
            "text/html": [
              "<div>\n",
              "<style scoped>\n",
              "    .dataframe tbody tr th:only-of-type {\n",
              "        vertical-align: middle;\n",
              "    }\n",
              "\n",
              "    .dataframe tbody tr th {\n",
              "        vertical-align: top;\n",
              "    }\n",
              "\n",
              "    .dataframe thead th {\n",
              "        text-align: right;\n",
              "    }\n",
              "</style>\n",
              "<table border=\"1\" class=\"dataframe\">\n",
              "  <thead>\n",
              "    <tr style=\"text-align: right;\">\n",
              "      <th></th>\n",
              "      <th>0</th>\n",
              "      <th>1</th>\n",
              "    </tr>\n",
              "  </thead>\n",
              "  <tbody>\n",
              "    <tr>\n",
              "      <th>0</th>\n",
              "      <td>1.0</td>\n",
              "      <td>3.0</td>\n",
              "    </tr>\n",
              "    <tr>\n",
              "      <th>1</th>\n",
              "      <td>3.0</td>\n",
              "      <td>NaN</td>\n",
              "    </tr>\n",
              "    <tr>\n",
              "      <th>2</th>\n",
              "      <td>3.0</td>\n",
              "      <td>NaN</td>\n",
              "    </tr>\n",
              "    <tr>\n",
              "      <th>3</th>\n",
              "      <td>2.0</td>\n",
              "      <td>NaN</td>\n",
              "    </tr>\n",
              "    <tr>\n",
              "      <th>4</th>\n",
              "      <td>2.0</td>\n",
              "      <td>3.0</td>\n",
              "    </tr>\n",
              "    <tr>\n",
              "      <th>5</th>\n",
              "      <td>3.0</td>\n",
              "      <td>NaN</td>\n",
              "    </tr>\n",
              "    <tr>\n",
              "      <th>6</th>\n",
              "      <td>3.0</td>\n",
              "      <td>NaN</td>\n",
              "    </tr>\n",
              "    <tr>\n",
              "      <th>7</th>\n",
              "      <td>1.0</td>\n",
              "      <td>NaN</td>\n",
              "    </tr>\n",
              "  </tbody>\n",
              "</table>\n",
              "</div>"
            ],
            "text/plain": [
              "     0    1\n",
              "0  1.0  3.0\n",
              "1  3.0  NaN\n",
              "2  3.0  NaN\n",
              "3  2.0  NaN\n",
              "4  2.0  3.0\n",
              "5  3.0  NaN\n",
              "6  3.0  NaN\n",
              "7  1.0  NaN"
            ]
          },
          "metadata": {
            "tags": []
          },
          "execution_count": 24
        }
      ]
    },
    {
      "cell_type": "code",
      "metadata": {
        "id": "-GV02YgZmE11",
        "colab_type": "code",
        "outputId": "49c6d362-07bb-433e-8d6d-5a47421709c0",
        "colab": {
          "base_uri": "https://localhost:8080/",
          "height": 173
        }
      },
      "source": [
        "row_aug_data_var=row_aug_data.var(axis=1)\n",
        "row_aug_data_var"
      ],
      "execution_count": 0,
      "outputs": [
        {
          "output_type": "execute_result",
          "data": {
            "text/plain": [
              "0    1.333333\n",
              "1    0.250000\n",
              "2    0.000000\n",
              "3    0.666667\n",
              "4    0.333333\n",
              "5    0.000000\n",
              "6    0.250000\n",
              "7    0.916667\n",
              "dtype: float64"
            ]
          },
          "metadata": {
            "tags": []
          },
          "execution_count": 25
        }
      ]
    },
    {
      "cell_type": "code",
      "metadata": {
        "id": "UaxDdYW9meTs",
        "colab_type": "code",
        "outputId": "a8969d38-c4b9-4233-f097-9cfb4e66665e",
        "colab": {
          "base_uri": "https://localhost:8080/",
          "height": 173
        }
      },
      "source": [
        "row_aug_data_std=row_aug_data.std(axis=1)\n",
        "row_aug_data_std"
      ],
      "execution_count": 0,
      "outputs": [
        {
          "output_type": "execute_result",
          "data": {
            "text/plain": [
              "0    1.154701\n",
              "1    0.500000\n",
              "2    0.000000\n",
              "3    0.816497\n",
              "4    0.577350\n",
              "5    0.000000\n",
              "6    0.500000\n",
              "7    0.957427\n",
              "dtype: float64"
            ]
          },
          "metadata": {
            "tags": []
          },
          "execution_count": 26
        }
      ]
    },
    {
      "cell_type": "code",
      "metadata": {
        "id": "XpKeQkQRmpLc",
        "colab_type": "code",
        "outputId": "fe959006-22b9-439b-fdd5-fba88e989922",
        "colab": {
          "base_uri": "https://localhost:8080/",
          "height": 173
        }
      },
      "source": [
        "row_aug_data_min=row_aug_data.min(axis=1)\n",
        "row_aug_data_min"
      ],
      "execution_count": 0,
      "outputs": [
        {
          "output_type": "execute_result",
          "data": {
            "text/plain": [
              "0    1.0\n",
              "1    2.0\n",
              "2    3.0\n",
              "3    1.0\n",
              "4    2.0\n",
              "5    3.0\n",
              "6    2.0\n",
              "7    1.0\n",
              "dtype: float64"
            ]
          },
          "metadata": {
            "tags": []
          },
          "execution_count": 27
        }
      ]
    },
    {
      "cell_type": "code",
      "metadata": {
        "id": "cFccMczym0PP",
        "colab_type": "code",
        "outputId": "83f6ef2b-6b43-4a7b-d2e2-0a01a87041e2",
        "colab": {
          "base_uri": "https://localhost:8080/",
          "height": 173
        }
      },
      "source": [
        "row_aug_data_Max=row_aug_data.max(axis=1)\n",
        "row_aug_data_Max"
      ],
      "execution_count": 0,
      "outputs": [
        {
          "output_type": "execute_result",
          "data": {
            "text/plain": [
              "0    3.0\n",
              "1    3.0\n",
              "2    3.0\n",
              "3    3.0\n",
              "4    3.0\n",
              "5    3.0\n",
              "6    3.0\n",
              "7    3.0\n",
              "dtype: float64"
            ]
          },
          "metadata": {
            "tags": []
          },
          "execution_count": 28
        }
      ]
    },
    {
      "cell_type": "code",
      "metadata": {
        "id": "EDQcFyPtm6Bg",
        "colab_type": "code",
        "colab": {}
      },
      "source": [
        "#plt.bar(row_aug_data, )"
      ],
      "execution_count": 0,
      "outputs": []
    },
    {
      "cell_type": "code",
      "metadata": {
        "id": "qWNjehGanO2G",
        "colab_type": "code",
        "outputId": "35feef6b-2165-4c2f-e38f-debb297b9b37",
        "colab": {
          "base_uri": "https://localhost:8080/",
          "height": 282
        }
      },
      "source": [
        "row_aug_data.plot.bar()"
      ],
      "execution_count": 0,
      "outputs": [
        {
          "output_type": "execute_result",
          "data": {
            "text/plain": [
              "<matplotlib.axes._subplots.AxesSubplot at 0x7fc486821b00>"
            ]
          },
          "metadata": {
            "tags": []
          },
          "execution_count": 30
        },
        {
          "output_type": "display_data",
          "data": {
            "image/png": "[encoded data removed]",
            "text/plain": [
              "<Figure size 432x288 with 1 Axes>"
            ]
          },
          "metadata": {
            "tags": []
          }
        }
      ]
    },
    {
      "cell_type": "code",
      "metadata": {
        "id": "bxaoO6B3HJQF",
        "colab_type": "code",
        "colab": {}
      },
      "source": [
        ""
      ],
      "execution_count": 0,
      "outputs": []
    }
  ]
}