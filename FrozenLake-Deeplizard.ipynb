{
 "cells": [
  {
   "cell_type": "code",
   "execution_count": 4,
   "metadata": {},
   "outputs": [
    {
     "name": "stdout",
     "output_type": "stream",
     "text": [
      "Collecting gym\n",
      "\u001b[?25l  Downloading https://files.pythonhosted.org/packages/1d/85/a7a462d7796f097027d60f9a62b4e17a0a94dcf12ac2a9f9a913333b11a6/gym-0.15.4.tar.gz (1.6MB)\n",
      "\u001b[K    100% |████████████████████████████████| 1.6MB 1.1MB/s eta 0:00:01\n",
      "\u001b[?25hCollecting cloudpickle~=1.2.0 (from gym)\n",
      "  Downloading https://files.pythonhosted.org/packages/c1/49/334e279caa3231255725c8e860fa93e72083567625573421db8875846c14/cloudpickle-1.2.2-py2.py3-none-any.whl\n",
      "Requirement already satisfied: numpy>=1.10.4 in /usr/lib/python3/dist-packages (from gym) (1.16.2)\n",
      "Requirement already satisfied: opencv-python in ./.local/lib/python3.7/site-packages (from gym) (4.1.2.30)\n",
      "Collecting pyglet<=1.3.2,>=1.2.0 (from gym)\n",
      "\u001b[?25l  Downloading https://files.pythonhosted.org/packages/1c/fc/dad5eaaab68f0c21e2f906a94ddb98175662cc5a654eee404d59554ce0fa/pyglet-1.3.2-py2.py3-none-any.whl (1.0MB)\n",
      "\u001b[K    100% |████████████████████████████████| 1.0MB 1.2MB/s ta 0:00:011\n",
      "\u001b[?25hRequirement already satisfied: scipy in /usr/lib/python3/dist-packages (from gym) (1.1.0)\n",
      "Requirement already satisfied: six in /usr/lib/python3/dist-packages (from gym) (1.12.0)\n",
      "Requirement already satisfied: future in /usr/lib/python3/dist-packages (from pyglet<=1.3.2,>=1.2.0->gym) (0.16.0)\n",
      "Building wheels for collected packages: gym\n",
      "  Running setup.py bdist_wheel for gym ... \u001b[?25ldone\n",
      "\u001b[?25h  Stored in directory: /home/thompson/.cache/pip/wheels/e9/26/9b/8a1a6599a91077a938ac4348cc3d3ac84bfab0dbfddeb4c6e7\n",
      "Successfully built gym\n",
      "Installing collected packages: cloudpickle, pyglet, gym\n",
      "Successfully installed cloudpickle-1.2.2 gym-0.15.4 pyglet-1.3.2\n"
     ]
    }
   ],
   "source": [
    "!pip install gym"
   ]
  },
  {
   "cell_type": "code",
   "execution_count": 5,
   "metadata": {},
   "outputs": [],
   "source": [
    "# Import all libraries\n",
    "\n",
    "import numpy as np\n",
    "import gym\n",
    "import random\n",
    "import time\n",
    "from IPython.display import clear_output "
   ]
  },
  {
   "cell_type": "code",
   "execution_count": 6,
   "metadata": {},
   "outputs": [],
   "source": [
    "# Create our Environment\n",
    "env = gym.make('FrozenLake-v0')"
   ]
  },
  {
   "cell_type": "code",
   "execution_count": 8,
   "metadata": {},
   "outputs": [
    {
     "name": "stdout",
     "output_type": "stream",
     "text": [
      "[[0. 0. 0. 0.]\n",
      " [0. 0. 0. 0.]\n",
      " [0. 0. 0. 0.]\n",
      " [0. 0. 0. 0.]\n",
      " [0. 0. 0. 0.]\n",
      " [0. 0. 0. 0.]\n",
      " [0. 0. 0. 0.]\n",
      " [0. 0. 0. 0.]\n",
      " [0. 0. 0. 0.]\n",
      " [0. 0. 0. 0.]\n",
      " [0. 0. 0. 0.]\n",
      " [0. 0. 0. 0.]\n",
      " [0. 0. 0. 0.]\n",
      " [0. 0. 0. 0.]\n",
      " [0. 0. 0. 0.]\n",
      " [0. 0. 0. 0.]]\n"
     ]
    }
   ],
   "source": [
    "# Construct Q-table and initialise all values to zero\n",
    "action_space_size = env.action_space.n       #Columns\n",
    "state_space_size = env.observation_space.n   #Rows\n",
    "\n",
    "q_table = np.zeros((state_space_size, action_space_size)) # Initialize all values in Q-table to zero\n",
    "\n",
    "print(q_table)"
   ]
  },
  {
   "cell_type": "code",
   "execution_count": 42,
   "metadata": {},
   "outputs": [],
   "source": [
    "# Create and initialize all parameters needed to implement the Q-learning Algorithm\n",
    "\n",
    "num_episodes = 10000  # total number of episodes the agent can play in the entire environment during training\n",
    "max_steps_per_episode = 100  # number of maximum steps that can be taken in each episode\n",
    "\n",
    "learning_rate = 0.01  # usually denoted by alpha\n",
    "discount_rate = 0.99  # usually  denoted by gamma\n",
    "\n",
    "\n",
    "# Exploration and Exploitation tradeoffs::::: Epsilon Greedy Strategy (EGS)\n",
    "exploration_rate = 1\n",
    "max_exploration_rate = 1\n",
    "min_exploration_rate = 0.01\n",
    "exploration_decay_rate = 0.001\n"
   ]
  },
  {
   "cell_type": "code",
   "execution_count": 43,
   "metadata": {},
   "outputs": [
    {
     "name": "stdout",
     "output_type": "stream",
     "text": [
      "******Average Reward Per Thousand Episodes******\n",
      "\n",
      "1000 :  0.05600000000000004\n",
      "2000 :  0.21800000000000017\n",
      "3000 :  0.4290000000000003\n",
      "4000 :  0.5400000000000004\n",
      "5000 :  0.6500000000000005\n",
      "6000 :  0.6750000000000005\n",
      "7000 :  0.6730000000000005\n",
      "8000 :  0.6840000000000005\n",
      "9000 :  0.7000000000000005\n",
      "10000 :  0.7170000000000005\n"
     ]
    }
   ],
   "source": [
    "# List to hold all rewards\n",
    "rewards_all_episodes = []\n",
    "\n",
    "# Q-Learning Algorithm\n",
    "for episode in range(num_episodes):\n",
    "    state = env.reset()  # Reset the state of the environment back to the starting state. ie. optimizer.zero_grad()\n",
    "    \n",
    "    done = False  #keeps track of whether or not the episode is finshed\n",
    "    rewards_current_episode = 0  #keep track of rewards in each episode\n",
    "    \n",
    "    for step in range(max_steps_per_episode):\n",
    "        #Exploration - Exploitation Tradeoffs\n",
    "        exploration_rate_threshold = random.uniform(0, 1)\n",
    "        if exploration_rate_threshold > exploration_rate:\n",
    "            action = np.argmax(q_table[state,:])  #chose the action that has the highest Q-value\n",
    "        else:\n",
    "            action = env.action_space.sample()   #sample an action randomly\n",
    "            \n",
    "        new_state, reward, done, info = env.step(action)\n",
    "    \n",
    "     # Update Q-table for Q(s, a)\n",
    "        q_table[state, action] = q_table[state, action] * (1 - learning_rate) + learning_rate * (reward + discount_rate * np.max(q_table[new_state, :]))\n",
    "\n",
    "        state = new_state\n",
    "        rewards_current_episode += reward\n",
    "\n",
    "        if done == True:\n",
    "            break\n",
    "        \n",
    "\n",
    "    # Exploration Rate Decay\n",
    "    exploration_rate = min_exploration_rate + \\\n",
    "     (max_exploration_rate - min_exploration_rate) * np.exp(-exploration_decay_rate * episode)\n",
    "\n",
    "    rewards_all_episodes.append(rewards_current_episode)\n",
    "\n",
    "# Calculate and Print the average rewards per thousand episodes\n",
    "rewards_per_thousand_episodes = np.split(np.array(rewards_all_episodes),num_episodes / 1000)\n",
    "count = 1000\n",
    "print('******Average Reward Per Thousand Episodes******\\n')\n",
    "for r in rewards_per_thousand_episodes:\n",
    "    print(count, ': ', str(sum(r/1000)))\n",
    "    count += 1000\n",
    "\n"
   ]
  },
  {
   "cell_type": "code",
   "execution_count": 44,
   "metadata": {},
   "outputs": [
    {
     "name": "stdout",
     "output_type": "stream",
     "text": [
      "\n",
      "\n",
      "******Q-Table******\n",
      "\n",
      "[[0.55446532 0.52777966 0.52513884 0.52060363]\n",
      " [0.30933553 0.33965994 0.33777074 0.49445093]\n",
      " [0.42760356 0.42317638 0.41762538 0.46644861]\n",
      " [0.34070337 0.29662277 0.30863137 0.45367859]\n",
      " [0.57115639 0.36578384 0.39490676 0.34260269]\n",
      " [0.         0.         0.         0.        ]\n",
      " [0.34859241 0.20417127 0.26009159 0.0997695 ]\n",
      " [0.         0.         0.         0.        ]\n",
      " [0.40315167 0.41073105 0.39033343 0.60369369]\n",
      " [0.48367427 0.65069709 0.48560206 0.423277  ]\n",
      " [0.62521692 0.41841201 0.44053622 0.36704017]\n",
      " [0.         0.         0.         0.        ]\n",
      " [0.         0.         0.         0.        ]\n",
      " [0.45359024 0.52142208 0.74357422 0.46693432]\n",
      " [0.73250472 0.87193851 0.79380737 0.77943657]\n",
      " [0.         0.         0.         0.        ]]\n"
     ]
    }
   ],
   "source": [
    "# print Updated Q-table\n",
    "print('\\n\\n******Q-Table******\\n')\n",
    "print(q_table)"
   ]
  },
  {
   "cell_type": "code",
   "execution_count": null,
   "metadata": {},
   "outputs": [],
   "source": []
  },
  {
   "cell_type": "code",
   "execution_count": null,
   "metadata": {},
   "outputs": [],
   "source": []
  },
  {
   "cell_type": "code",
   "execution_count": 45,
   "metadata": {},
   "outputs": [
    {
     "name": "stdout",
     "output_type": "stream",
     "text": [
      "  (Down)\n",
      "SFFF\n",
      "FHFH\n",
      "FFFH\n",
      "HFF\u001b[41mG\u001b[0m\n",
      "*****You Reached the Goal****\n"
     ]
    }
   ],
   "source": [
    " #Q-Learning Frozen Lake\n",
    "for episode in range(3):\n",
    "    state = env.reset()\n",
    "    done = False\n",
    "    print('*****Episode ', episode+1, '*****\\n\\n\\n\\n')\n",
    "    time.sleep(1)\n",
    "    \n",
    "    for step in range(max_steps_per_episode):\n",
    "        clear_output(wait = True)\n",
    "        env.render()\n",
    "        time.sleep(0.3)\n",
    "        \n",
    "        action = np.argmax(q_table[state, :])\n",
    "        new_state, reward, done, info = env.step(action)\n",
    "        \n",
    "        if done:\n",
    "            clear_output(wait = True)\n",
    "            env.render()\n",
    "            \n",
    "            if reward == 1:\n",
    "                print('*****You Reached the Goal****')\n",
    "                time.sleep(3)\n",
    "            else:\n",
    "                print('****You fell through the Hole****')\n",
    "                time.sleep(3)\n",
    "            clear_output(wait = True)\n",
    "            break\n",
    "        state = new_state\n",
    "env.close()"
   ]
  },
  {
   "cell_type": "code",
   "execution_count": null,
   "metadata": {},
   "outputs": [],
   "source": []
  },
  {
   "cell_type": "code",
   "execution_count": 47,
   "metadata": {},
   "outputs": [
    {
     "name": "stderr",
     "output_type": "stream",
     "text": [
      "/home/thompson/.local/lib/python3.7/site-packages/gym/logger.py:30: UserWarning: \u001b[33mWARN: You are calling 'step()' even though this environment has already returned done = True. You should always call 'reset()' once you receive 'done = True' -- any further steps are undefined behavior.\u001b[0m\n",
      "  warnings.warn(colorize('%s: %s'%('WARN', msg % args), 'yellow'))\n"
     ]
    }
   ],
   "source": [
    "# Cart Pole Project\n",
    "\n",
    "env = gym.make('CartPole-v0')\n",
    "env.reset()\n",
    "\n",
    "for _ in range(1000):\n",
    "    env.render()\n",
    "    env.step(env.action_space.sample())\n",
    "    \n",
    "env.close()"
   ]
  },
  {
   "cell_type": "code",
   "execution_count": null,
   "metadata": {},
   "outputs": [],
   "source": []
  }
 ],
 "metadata": {
  "kernelspec": {
   "display_name": "Python 3",
   "language": "python",
   "name": "python3"
  },
  "language_info": {
   "codemirror_mode": {
    "name": "ipython",
    "version": 3
   },
   "file_extension": ".py",
   "mimetype": "text/x-python",
   "name": "python",
   "nbconvert_exporter": "python",
   "pygments_lexer": "ipython3",
   "version": "3.7.3"
  }
 },
 "nbformat": 4,
 "nbformat_minor": 2
}
