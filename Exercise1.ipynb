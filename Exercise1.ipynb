{
 "cells": [
  {
   "cell_type": "markdown",
   "metadata": {},
   "source": [
    "# VECTORS"
   ]
  },
  {
   "cell_type": "markdown",
   "metadata": {},
   "source": [
    "## Theoretical exercises"
   ]
  },
  {
   "cell_type": "markdown",
   "metadata": {},
   "source": [
    " <img src=\"Images/Q1.png\" style=\"height\"> \n",
    " \n",
    " answer: "
   ]
  },
  {
   "cell_type": "markdown",
   "metadata": {},
   "source": [
    " <img src=\"Images/Q2.png\" style=\"height\">  \n",
    " \n",
    " answer:"
   ]
  },
  {
   "cell_type": "markdown",
   "metadata": {},
   "source": [
    " <img src=\"Images/Q3.png\" style=\"height\">  \n",
    " \n",
    " answer:"
   ]
  },
  {
   "cell_type": "markdown",
   "metadata": {},
   "source": [
    " <img src=\"Images/Q4.png\" style=\"height\">  \n",
    " \n",
    " answer:"
   ]
  },
  {
   "cell_type": "markdown",
   "metadata": {},
   "source": [
    " <img src=\"Images/Q5.png\" style=\"height\">  \n",
    " \n",
    " answer:"
   ]
  },
  {
   "cell_type": "markdown",
   "metadata": {},
   "source": [
    " <img src=\"Images/Q6.png\" style=\"height\">  \n",
    " \n",
    " answer:"
   ]
  },
  {
   "cell_type": "markdown",
   "metadata": {},
   "source": [
    " <img src=\"Images/Q7.png\" style=\"height\">  \n",
    " \n",
    " answer:"
   ]
  },
  {
   "cell_type": "markdown",
   "metadata": {},
   "source": [
    " <img src=\"Images/Q8.png\" style=\"height\">  \n",
    " \n",
    " answer:"
   ]
  },
  {
   "cell_type": "markdown",
   "metadata": {},
   "source": [
    " <img src=\"Images/Q9.png\" style=\"height\">  \n",
    " \n",
    " answer:"
   ]
  },
  {
   "cell_type": "markdown",
   "metadata": {},
   "source": [
    " <img src=\"Images/Q10.png\" style=\"height\">  \n",
    " \n",
    " answer:"
   ]
  },
  {
   "cell_type": "markdown",
   "metadata": {},
   "source": [
    " <img src=\"Images/Q11.png\" style=\"height\">  \n",
    " \n",
    " answer:"
   ]
  },
  {
   "cell_type": "markdown",
   "metadata": {},
   "source": [
    " <img src=\"Images/Q12.png\" style=\"height\">  \n",
    " \n",
    " answer:"
   ]
  },
  {
   "cell_type": "markdown",
   "metadata": {},
   "source": [
    "## Coding exercises"
   ]
  },
  {
   "cell_type": "code",
   "execution_count": 1,
   "metadata": {},
   "outputs": [],
   "source": [
    "import numpy as np"
   ]
  },
  {
   "cell_type": "markdown",
   "metadata": {},
   "source": [
    "## Operations on Vectors"
   ]
  },
  {
   "cell_type": "code",
   "execution_count": null,
   "metadata": {},
   "outputs": [],
   "source": [
    "def addition(r, s):\n",
    "    \"\"\" Computes the addition of two vectors.\n",
    "    Args:\n",
    "        r: vector of dimension D\n",
    "        s: vector of dimension D\n",
    "    \n",
    "    Returns:\n",
    "        vector_add: D dimensional vector, the addition of vectors r and s.\n",
    "    \"\"\"\n",
    "    \n",
    "    ### BEGIN SOLUTION\n",
    "    return vector_add\n",
    "\n",
    "    ### END SOLUTION"
   ]
  },
  {
   "cell_type": "code",
   "execution_count": null,
   "metadata": {},
   "outputs": [],
   "source": [
    "def scalar_multiplication(lbda, v):\n",
    "    \"\"\" Computes the multiplication of a vector by a scalar.\n",
    "    Args:\n",
    "        lbda: a scalar\n",
    "        v: vector of dimension D\n",
    "    \n",
    "    Returns:\n",
    "        Vector: D dimensional vector, resulting from scaling v with lbda.\n",
    "    \"\"\"\n",
    "    \n",
    "    ### BEGIN SOLUTION\n",
    "    return Vector\n",
    "    ### END SOLUTION"
   ]
  },
  {
   "cell_type": "code",
   "execution_count": null,
   "metadata": {},
   "outputs": [],
   "source": [
    "def modulus(v):\n",
    "    \"\"\" Computes the modulus/length of a vector.\n",
    "    Args:\n",
    "        v: vector of dimension D\n",
    "    \n",
    "    Returns:\n",
    "        mod: a scaler representing the modulus of the vector v.\n",
    "    \"\"\"\n",
    "    \n",
    "    ### BEGIN SOLUTION\n",
    "    \n",
    "    return mod\n",
    "    ### END SOLUTION"
   ]
  },
  {
   "cell_type": "code",
   "execution_count": null,
   "metadata": {},
   "outputs": [],
   "source": [
    "def dot(r, s):\n",
    "    \"\"\" Computes the dot product of two vectors.\n",
    "    Args:\n",
    "        r: vector of dimension D\n",
    "        s: vector of dimension D\n",
    "    \n",
    "    Returns:\n",
    "        dot_prod: scalar result of the dot product between r and s.\n",
    "    \"\"\"\n",
    "    ### BEGIN SOLUTION\n",
    "    \n",
    "    return dot_prod\n",
    "    ### END SOLUTION"
   ]
  },
  {
   "cell_type": "code",
   "execution_count": null,
   "metadata": {},
   "outputs": [],
   "source": [
    "def scaling(v):\n",
    "    \"\"\" This function scales a given vector.\n",
    "    Args:\n",
    "        v: vector of dimension D\n",
    "    \n",
    "    Returns:\n",
    "        V_scaled: D dimensional vector resulting from scaling v with its modulus.\n",
    "    \"\"\"\n",
    "    \n",
    "    ### BEGIN SOLUTION\n",
    "    \n",
    "    \n",
    "    return V_scaled\n",
    "    ### END SOLUTION"
   ]
  },
  {
   "cell_type": "code",
   "execution_count": null,
   "metadata": {},
   "outputs": [],
   "source": [
    "def angle(r, s):\n",
    "    \"\"\" Computes the angles between two vectors.\n",
    "    Args:\n",
    "        r: vector of dimension D\n",
    "        s: vector of dimension D\n",
    "    \n",
    "    Returns:\n",
    "        vector_angle: angle between vectors r and s.\n",
    "    \"\"\"\n",
    "    \n",
    "    ### BEGIN SOLUTION\n",
    "    \n",
    "    return vector_angle\n",
    "    ### END SOLUTION"
   ]
  }
 ],
 "metadata": {
  "kernelspec": {
   "display_name": "Python 3",
   "language": "python",
   "name": "python3"
  },
  "language_info": {
   "codemirror_mode": {
    "name": "ipython",
    "version": 3
   },
   "file_extension": ".py",
   "mimetype": "text/x-python",
   "name": "python",
   "nbconvert_exporter": "python",
   "pygments_lexer": "ipython3",
   "version": "3.7.3"
  }
 },
 "nbformat": 4,
 "nbformat_minor": 2
}
